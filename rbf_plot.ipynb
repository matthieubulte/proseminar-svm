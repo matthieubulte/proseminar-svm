{
 "cells": [
  {
   "cell_type": "code",
   "execution_count": 4,
   "metadata": {
    "collapsed": false
   },
   "outputs": [
    {
     "name": "stdout",
     "output_type": "stream",
     "text": [
      "Automatically created module for IPython interactive environment\n",
      "Using matplotlib backend: Qt5Agg\n"
     ]
    }
   ],
   "source": [
    "print(__doc__)\n",
    "\n",
    "import numpy as np\n",
    "import matplotlib.pyplot as plt\n",
    "import matplotlib.font_manager\n",
    "from sklearn import svm\n",
    "\n",
    "%matplotlib \n",
    "\n",
    "xx, yy = np.meshgrid(np.linspace(-5, 5, 500), np.linspace(-5, 5, 500))\n",
    "# Generate train data\n",
    "X = 0.5 * np.random.randn(10, 2)\n",
    "X = np.r_[X + [-3, 1.5], X + [3, -1.5], X - [1, 2], X + [1, 3]]\n",
    "y = np.r_[np.ones(20), -1*np.ones(20)]\n",
    "\n",
    "# fit the model\n",
    "clf = svm.SVC(C=0.1, kernel=\"rbf\", gamma=0.1)\n",
    "clf.fit(X, y)\n",
    "\n",
    "# plot the line, the points, and the nearest vectors to the plane\n",
    "Z = clf.decision_function(np.c_[xx.ravel(), yy.ravel()])\n",
    "Z = Z.reshape(xx.shape)\n",
    "\n",
    "plt.contour(xx, yy, Z, levels=np.linspace(Z.min(), 0, 7), colors='black', linewidths=0.5)\n",
    "\n",
    "plt.plot(X[:, 0][y == 1], X[:, 1][y == 1], 'x', mfc='none', c='k');\n",
    "plt.plot(X[:, 0][y == -1], X[:, 1][y == -1], 'o', mfc='none', c='k');\n",
    "\n",
    "plt.axis('off');"
   ]
  },
  {
   "cell_type": "code",
   "execution_count": 2,
   "metadata": {
    "collapsed": true
   },
   "outputs": [],
   "source": [
    "plt.contour?"
   ]
  }
 ],
 "metadata": {
  "kernelspec": {
   "display_name": "Python [conda root]",
   "language": "python",
   "name": "conda-root-py"
  },
  "language_info": {
   "codemirror_mode": {
    "name": "ipython",
    "version": 2
   },
   "file_extension": ".py",
   "mimetype": "text/x-python",
   "name": "python",
   "nbconvert_exporter": "python",
   "pygments_lexer": "ipython2",
   "version": "2.7.13"
  }
 },
 "nbformat": 4,
 "nbformat_minor": 2
}
