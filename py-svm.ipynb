{
 "cells": [
  {
   "cell_type": "code",
   "execution_count": 1,
   "metadata": {
    "collapsed": false
   },
   "outputs": [],
   "source": [
    "%matplotlib inline\n",
    "\n",
    "import logging\n",
    "\n",
    "from sklearn.model_selection import train_test_split\n",
    "from sklearn.model_selection import GridSearchCV\n",
    "from sklearn import datasets\n",
    "from sklearn.metrics import classification_report\n",
    "from sklearn.metrics import confusion_matrix\n",
    "\n",
    "import numpy as np\n",
    "import matplotlib.pyplot as plt\n",
    "\n",
    "logging.basicConfig(level=logging.INFO, format='%(asctime)s %(message)s')"
   ]
  },
  {
   "cell_type": "code",
   "execution_count": 72,
   "metadata": {
    "collapsed": false
   },
   "outputs": [],
   "source": [
    "digits = datasets.load_digits()\n",
    "\n",
    "X_train, X_test, y_train, y_test = train_test_split(\n",
    "    (digits.data[:-1] - digits.data[:-1].mean()) / 16.0,\n",
    "    digits.target[:-1],\n",
    "    test_size=0.2,\n",
    "    random_state=42\n",
    ")"
   ]
  },
  {
   "cell_type": "code",
   "execution_count": 78,
   "metadata": {
    "collapsed": false
   },
   "outputs": [
    {
     "name": "stdout",
     "output_type": "stream",
     "text": [
      "             precision    recall  f1-score   support\n",
      "\n",
      "          0       0.97      1.00      0.99        34\n",
      "          1       0.86      0.96      0.91        26\n",
      "          2       0.97      1.00      0.99        34\n",
      "          3       0.96      0.84      0.90        31\n",
      "          4       1.00      0.98      0.99        46\n",
      "          5       0.98      1.00      0.99        42\n",
      "          6       1.00      0.97      0.98        31\n",
      "          7       0.89      0.98      0.93        42\n",
      "          8       0.94      0.91      0.92        33\n",
      "          9       0.97      0.90      0.94        41\n",
      "\n",
      "avg / total       0.96      0.96      0.96       360\n",
      "\n",
      "{'C': 1.0, 'gamma': 0.01} 1105\n"
     ]
    }
   ],
   "source": [
    "from sklearn import svm\n",
    "\n",
    "param_grid = {'C': np.linspace(5e-2, 1, 10),\n",
    "              'gamma': np.linspace(1e-3, 1e-2, 10) }\n",
    "clf = GridSearchCV(svm.SVC(kernel='rbf', class_weight='balanced'), param_grid)\n",
    "clf = clf.fit(X_train, y_train)\n",
    "\n",
    "y_pred = clf.predict(X_test)\n",
    "\n",
    "print classification_report(y_test, y_pred, target_names=map(str, digits.target_names))\n",
    "print clf.best_params_, len(clf.best_estimator_.support_)"
   ]
  },
  {
   "cell_type": "code",
   "execution_count": 37,
   "metadata": {
    "collapsed": false
   },
   "outputs": [
    {
     "name": "stdout",
     "output_type": "stream",
     "text": [
      "             precision    recall  f1-score   support\n",
      "\n",
      "          0       1.00      0.99      0.99        67\n",
      "          1       0.74      0.99      0.85        71\n",
      "          2       1.00      0.92      0.96        64\n",
      "          3       0.98      0.89      0.93        72\n",
      "          4       0.94      0.96      0.95        77\n",
      "          5       1.00      0.89      0.94        76\n",
      "          6       1.00      0.97      0.99        72\n",
      "          7       0.99      0.97      0.98        78\n",
      "          8       0.89      0.91      0.90        65\n",
      "          9       0.95      0.92      0.93        77\n",
      "\n",
      "avg / total       0.95      0.94      0.94       719\n",
      "\n",
      "[[66  0  0  0  1  0  0  0  0  0]\n",
      " [ 0 70  0  0  0  0  0  0  1  0]\n",
      " [ 0  5 59  0  0  0  0  0  0  0]\n",
      " [ 0  4  0 64  0  0  0  1  3  0]\n",
      " [ 0  2  0  0 74  0  0  0  1  0]\n",
      " [ 0  4  0  0  1 68  0  0  0  3]\n",
      " [ 0  0  0  0  2  0 70  0  0  0]\n",
      " [ 0  0  0  0  1  0  0 76  0  1]\n",
      " [ 0  6  0  0  0  0  0  0 59  0]\n",
      " [ 0  3  0  1  0  0  0  0  2 71]]\n",
      "{'alpha': 0.72222222222222221}\n"
     ]
    }
   ],
   "source": [
    "from sklearn.linear_model import SGDClassifier\n",
    "\n",
    "param_grid = {'alpha': np.linspace(5e-1, 1, 10)}\n",
    "\n",
    "clf = GridSearchCV(SGDClassifier(penalty='l2'), param_grid)\n",
    "clf = clf.fit(X_train, y_train)\n",
    "\n",
    "y_pred = clf.predict(X_test)\n",
    "\n",
    "print classification_report(y_test, y_pred, target_names=map(str, digits.target_names))\n",
    "print confusion_matrix(y_test, y_pred, labels=range(digits.target_names.shape[0]))\n",
    "print clf.best_params_"
   ]
  },
  {
   "cell_type": "code",
   "execution_count": 19,
   "metadata": {
    "collapsed": false
   },
   "outputs": [
    {
     "name": "stdout",
     "output_type": "stream",
     "text": [
      "             precision    recall  f1-score   support\n",
      "\n",
      "          0       0.94      0.94      0.94        67\n",
      "          1       0.97      0.97      0.97        71\n",
      "          2       0.97      0.97      0.97        64\n",
      "          3       0.91      0.97      0.94        72\n",
      "          4       0.94      0.96      0.95        77\n",
      "          5       0.96      0.95      0.95        76\n",
      "          6       0.94      0.94      0.94        72\n",
      "          7       0.97      0.94      0.95        78\n",
      "          8       0.94      0.92      0.93        65\n",
      "          9       0.95      0.92      0.93        77\n",
      "\n",
      "avg / total       0.95      0.95      0.95       719\n",
      "\n",
      "[[63  0  0  0  2  1  1  0  0  0]\n",
      " [ 0 69  0  0  0  0  0  0  2  0]\n",
      " [ 0  0 62  2  0  0  0  0  0  0]\n",
      " [ 0  0  0 70  0  1  0  0  1  0]\n",
      " [ 0  0  0  0 74  0  3  0  0  0]\n",
      " [ 0  1  0  0  0 72  0  1  0  2]\n",
      " [ 4  0  0  0  0  0 68  0  0  0]\n",
      " [ 0  0  1  0  2  0  0 73  0  2]\n",
      " [ 0  1  1  2  1  0  0  0 60  0]\n",
      " [ 0  0  0  3  0  1  0  1  1 71]]\n"
     ]
    }
   ],
   "source": [
    "from sklearn.neural_network import MLPClassifier\n",
    "\n",
    "param_grid = {'alpha': np.linspace(5e-5, 5e-4, 10)}\n",
    "\n",
    "clf = GridSearchCV(MLPClassifier(solver='lbfgs', hidden_layer_sizes=(64, 256, 10)), param_grid)\n",
    "clf.fit(X_train, y_train)\n",
    "\n",
    "y_pred = clf.predict(X_test)\n",
    "\n",
    "print classification_report(y_test, y_pred, target_names=map(str, digits.target_names))\n",
    "print confusion_matrix(y_test, y_pred, labels=range(digits.target_names.shape[0]))"
   ]
  },
  {
   "cell_type": "code",
   "execution_count": 46,
   "metadata": {
    "collapsed": false
   },
   "outputs": [
    {
     "name": "stdout",
     "output_type": "stream",
     "text": [
      "             precision    recall  f1-score   support\n",
      "\n",
      "          0       1.00      1.00      1.00        67\n",
      "          1       0.96      1.00      0.98        71\n",
      "          2       1.00      1.00      1.00        64\n",
      "          3       0.99      0.99      0.99        72\n",
      "          4       0.99      0.99      0.99        77\n",
      "          5       1.00      1.00      1.00        76\n",
      "          6       1.00      1.00      1.00        72\n",
      "          7       0.97      1.00      0.99        78\n",
      "          8       1.00      0.94      0.97        65\n",
      "          9       0.99      0.97      0.98        77\n",
      "\n",
      "avg / total       0.99      0.99      0.99       719\n",
      "\n",
      "[[67  0  0  0  0  0  0  0  0  0]\n",
      " [ 0 71  0  0  0  0  0  0  0  0]\n",
      " [ 0  0 64  0  0  0  0  0  0  0]\n",
      " [ 0  0  0 71  0  0  0  1  0  0]\n",
      " [ 0  0  0  0 76  0  0  1  0  0]\n",
      " [ 0  0  0  0  0 76  0  0  0  0]\n",
      " [ 0  0  0  0  0  0 72  0  0  0]\n",
      " [ 0  0  0  0  0  0  0 78  0  0]\n",
      " [ 0  3  0  0  0  0  0  0 61  1]\n",
      " [ 0  0  0  1  1  0  0  0  0 75]]\n",
      "{'n_neighbors': 7}\n"
     ]
    }
   ],
   "source": [
    "from sklearn.neighbors import KNeighborsClassifier\n",
    "\n",
    "param_grid = {'n_neighbors': range(5, 15)}\n",
    "\n",
    "clf = GridSearchCV(KNeighborsClassifier(), param_grid)\n",
    "clf = clf.fit(X_train, y_train)\n",
    "\n",
    "y_pred = clf.predict(X_test)\n",
    "\n",
    "print classification_report(y_test, y_pred, target_names=map(str, digits.target_names))\n",
    "print confusion_matrix(y_test, y_pred, labels=range(digits.target_names.shape[0]))\n",
    "print clf.best_params_"
   ]
  },
  {
   "cell_type": "code",
   "execution_count": 48,
   "metadata": {
    "collapsed": false
   },
   "outputs": [
    {
     "name": "stdout",
     "output_type": "stream",
     "text": [
      "             precision    recall  f1-score   support\n",
      "\n",
      "          0       0.97      1.00      0.99        67\n",
      "          1       0.92      0.97      0.95        71\n",
      "          2       0.97      0.95      0.96        64\n",
      "          3       0.96      0.94      0.95        72\n",
      "          4       0.96      0.97      0.97        77\n",
      "          5       0.97      0.92      0.95        76\n",
      "          6       0.99      0.97      0.98        72\n",
      "          7       0.94      0.97      0.96        78\n",
      "          8       0.92      0.94      0.93        65\n",
      "          9       0.95      0.90      0.92        77\n",
      "\n",
      "avg / total       0.95      0.95      0.95       719\n",
      "\n",
      "[[67  0  0  0  0  0  0  0  0  0]\n",
      " [ 0 69  1  0  0  0  0  0  1  0]\n",
      " [ 0  2 61  0  0  0  0  1  0  0]\n",
      " [ 0  1  0 68  0  0  1  1  1  0]\n",
      " [ 0  0  0  0 75  0  0  1  0  1]\n",
      " [ 0  1  0  1  2 70  0  0  0  2]\n",
      " [ 1  0  0  0  0  1 70  0  0  0]\n",
      " [ 0  0  0  0  0  0  0 76  1  1]\n",
      " [ 1  2  0  0  1  0  0  0 61  0]\n",
      " [ 0  0  1  2  0  1  0  2  2 69]]\n"
     ]
    }
   ],
   "source": [
    "from sklearn.ensemble import RandomForestClassifier\n",
    "\n",
    "\n",
    "clf = RandomForestClassifier()\n",
    "clf = clf.fit(X_train, y_train)\n",
    "\n",
    "y_pred = clf.predict(X_test)\n",
    "\n",
    "print classification_report(y_test, y_pred, target_names=map(str, digits.target_names))\n",
    "print confusion_matrix(y_test, y_pred, labels=range(digits.target_names.shape[0]))\n"
   ]
  },
  {
   "cell_type": "code",
   "execution_count": 75,
   "metadata": {
    "collapsed": false
   },
   "outputs": [
    {
     "name": "stdout",
     "output_type": "stream",
     "text": [
      "\n",
      "------------------------------------------------------------------\n",
      "Classifier: radial basis function\n",
      "Best parameters: {'C': 20.0, 'gamma': 0.01}\n",
      "Misclassified: (6 / 360)\n",
      "\n",
      "             precision    recall  f1-score   support\n",
      "\n",
      "          0       0.97      1.00      0.99        34\n",
      "          1       1.00      1.00      1.00        26\n",
      "          2       1.00      1.00      1.00        34\n",
      "          3       1.00      0.94      0.97        31\n",
      "          4       1.00      1.00      1.00        46\n",
      "          5       0.98      1.00      0.99        42\n",
      "          6       1.00      0.97      0.98        31\n",
      "          7       0.98      0.98      0.98        42\n",
      "          8       0.94      1.00      0.97        33\n",
      "          9       0.97      0.95      0.96        41\n",
      "\n",
      "avg / total       0.98      0.98      0.98       360\n",
      "\n",
      "\n",
      "------------------------------------------------------------------\n",
      "Classifier: lin svm [l2 loss]\n",
      "Best parameters: {'alpha': 0.94444444444444442}\n",
      "Misclassified: (38 / 360)\n",
      "\n",
      "             precision    recall  f1-score   support\n",
      "\n",
      "          0       0.83      1.00      0.91        34\n",
      "          1       0.88      0.85      0.86        26\n",
      "          2       0.85      1.00      0.92        34\n",
      "          3       0.90      0.87      0.89        31\n",
      "          4       1.00      0.96      0.98        46\n",
      "          5       0.91      0.98      0.94        42\n",
      "          6       1.00      0.97      0.98        31\n",
      "          7       0.80      0.98      0.88        42\n",
      "          8       0.96      0.76      0.85        33\n",
      "          9       0.86      0.59      0.70        41\n",
      "\n",
      "avg / total       0.90      0.89      0.89       360\n",
      "\n",
      "\n",
      "------------------------------------------------------------------\n",
      "Classifier: nn [64x256x10]\n",
      "Best parameters: {'alpha': 0.00014999999999999999}\n",
      "Misclassified: (10 / 360)\n",
      "\n",
      "             precision    recall  f1-score   support\n",
      "\n",
      "          0       0.97      0.97      0.97        34\n",
      "          1       0.93      1.00      0.96        26\n",
      "          2       1.00      0.97      0.99        34\n",
      "          3       0.94      0.97      0.95        31\n",
      "          4       0.98      1.00      0.99        46\n",
      "          5       0.98      1.00      0.99        42\n",
      "          6       0.97      0.97      0.97        31\n",
      "          7       1.00      0.98      0.99        42\n",
      "          8       0.97      0.94      0.95        33\n",
      "          9       0.97      0.93      0.95        41\n",
      "\n",
      "avg / total       0.97      0.97      0.97       360\n",
      "\n",
      "\n",
      "------------------------------------------------------------------\n",
      "Classifier: random forest\n",
      "Best parameters: {}\n",
      "Misclassified: (15 / 360)\n",
      "\n",
      "             precision    recall  f1-score   support\n",
      "\n",
      "          0       0.97      0.97      0.97        34\n",
      "          1       0.93      1.00      0.96        26\n",
      "          2       1.00      0.97      0.99        34\n",
      "          3       0.90      0.90      0.90        31\n",
      "          4       0.96      1.00      0.98        46\n",
      "          5       0.93      0.98      0.95        42\n",
      "          6       1.00      0.94      0.97        31\n",
      "          7       0.93      1.00      0.97        42\n",
      "          8       0.97      0.97      0.97        33\n",
      "          9       1.00      0.85      0.92        41\n",
      "\n",
      "avg / total       0.96      0.96      0.96       360\n",
      "\n",
      "\n",
      "------------------------------------------------------------------\n",
      "Classifier: knn\n",
      "Best parameters: {'n_neighbors': 5}\n",
      "Misclassified: (6 / 360)\n",
      "\n",
      "             precision    recall  f1-score   support\n",
      "\n",
      "          0       1.00      1.00      1.00        34\n",
      "          1       1.00      1.00      1.00        26\n",
      "          2       1.00      1.00      1.00        34\n",
      "          3       0.97      0.97      0.97        31\n",
      "          4       0.98      0.98      0.98        46\n",
      "          5       1.00      1.00      1.00        42\n",
      "          6       1.00      1.00      1.00        31\n",
      "          7       0.95      0.98      0.96        42\n",
      "          8       0.97      1.00      0.99        33\n",
      "          9       0.97      0.93      0.95        41\n",
      "\n",
      "avg / total       0.98      0.98      0.98       360\n",
      "\n"
     ]
    }
   ],
   "source": [
    "classifiers = [\n",
    "    { 'name': 'radial basis function',\n",
    "     'clf': svm.SVC(kernel='rbf', class_weight='balanced'),\n",
    "     'grid': {'C': np.linspace(2e1, 1e2, 10), 'gamma': np.linspace(1e-3, 1e-2, 10) }\n",
    "    },\n",
    "    { 'name': 'lin svm [l2 loss]',\n",
    "     'clf': SGDClassifier(penalty='l2'),\n",
    "     'grid': {'alpha': np.linspace(5e-1, 1, 10)}\n",
    "    },\n",
    "    { 'name': 'nn [64x256x10]',\n",
    "     'clf': MLPClassifier(solver='lbfgs', hidden_layer_sizes=(64, 256, 10)),\n",
    "     'grid': {'alpha': np.linspace(5e-5, 5e-4, 10)}\n",
    "    },\n",
    "    { 'name': 'random forest',\n",
    "     'clf': RandomForestClassifier(),\n",
    "     'grid': {}\n",
    "    },\n",
    "    { 'name': 'knn',\n",
    "     'clf': KNeighborsClassifier(),\n",
    "     'grid': {'n_neighbors': range(5, 15)}\n",
    "    },\n",
    "]\n",
    "\n",
    "for c in classifiers:\n",
    "    print \"\\n------------------------------------------------------------------\"\n",
    "    print \"Classifier: %s\" % c['name']\n",
    "    \n",
    "    clf = GridSearchCV(c['clf'], c['grid'])\n",
    "    clf = clf.fit(X_train, y_train)\n",
    "    y_pred = clf.predict(X_test)\n",
    "    \n",
    "    print \"Best parameters: %s\" % clf.best_params_\n",
    "    print \"Misclassified: (%d / %d)\\n\" % (sum(y_pred != y_test), len(y_test))\n",
    "    print classification_report(y_test, y_pred, target_names=map(str, digits.target_names))\n"
   ]
  }
 ],
 "metadata": {
  "kernelspec": {
   "display_name": "Python [conda root]",
   "language": "python",
   "name": "conda-root-py"
  },
  "language_info": {
   "codemirror_mode": {
    "name": "ipython",
    "version": 2
   },
   "file_extension": ".py",
   "mimetype": "text/x-python",
   "name": "python",
   "nbconvert_exporter": "python",
   "pygments_lexer": "ipython2",
   "version": "2.7.13"
  }
 },
 "nbformat": 4,
 "nbformat_minor": 2
}
