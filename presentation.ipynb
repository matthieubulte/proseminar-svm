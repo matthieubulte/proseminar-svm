{
 "cells": [
  {
   "cell_type": "code",
   "execution_count": 33,
   "metadata": {
    "collapsed": false
   },
   "outputs": [],
   "source": [
    "using PyPlot\n",
    "using Interact\n",
    "using Distributions\n",
    "\n",
    "pygui(true)\n",
    "ion()"
   ]
  },
  {
   "cell_type": "code",
   "execution_count": 34,
   "metadata": {
    "collapsed": false
   },
   "outputs": [
    {
     "name": "stderr",
     "output_type": "stream",
     "text": [
      "WARNING: Method definition cloud!(Any, Any, Any, Any, Any) in module Main at In[27]:2 overwritten at In[34]:2.\n",
      "WARNING: Method definition circle!(Any, Any, Any, Any, Any, Any) in module Main at In[27]:10 overwritten at In[34]:10.\n",
      "WARNING: Method definition lin_sep_two_clouds() in module Main at In[27]:19 overwritten at In[34]:19.\n",
      "WARNING: Method definition two_cocentric() in module Main at In[27]:28 overwritten at In[34]:28.\n"
     ]
    },
    {
     "data": {
      "text/plain": [
       "two_cocentric (generic function with 1 method)"
      ]
     },
     "execution_count": 34,
     "metadata": {},
     "output_type": "execute_result"
    }
   ],
   "source": [
    "function cloud!(x, res, start, n, d)\n",
    "    dim = size(x, 2)\n",
    "    for i=1:n\n",
    "        res[start+i, 1] = x[1] + rand(d)\n",
    "        res[start+i, 2] = x[2] + rand(d)\n",
    "    end\n",
    "end\n",
    "\n",
    "function circle!(x, r, res, start, n, d)\n",
    "    dim = size(x, 2)\n",
    "    for i=1:n\n",
    "        angle = rand() * 2 * pi\n",
    "        res[start+i, 1] = x[1] + cos(angle) * r + rand(d)\n",
    "        res[start+i, 2] = x[2] + sin(angle) * r + rand(d)\n",
    "    end    \n",
    "end\n",
    "\n",
    "function lin_sep_two_clouds()\n",
    "    x = zeros(100, 2)\n",
    "    cloud!([0 0], x,  0, 50, Normal(0, 0.2))\n",
    "    cloud!([1 1], x, 50, 50, Normal(0, 0.2))\n",
    "\n",
    "    y = repeat([1; -1], inner=50)\n",
    "    x, y    \n",
    "end\n",
    "\n",
    "function two_cocentric()\n",
    "    x = zeros(150, 2)\n",
    "    cloud!( [0 0],      x,  0,  50, Normal(0, 0.1))\n",
    "    circle!([0 0], 1.5, x, 50, 100, Normal(0, 0.1))\n",
    "\n",
    "    y = repeat([1; -1; -1], inner=50)\n",
    "    x, y\n",
    "end"
   ]
  },
  {
   "cell_type": "code",
   "execution_count": 28,
   "metadata": {
    "collapsed": false
   },
   "outputs": [
    {
     "name": "stderr",
     "output_type": "stream",
     "text": [
      "WARNING: Method definition transform_grid!(Any, Any, Any, Any) in module Main at In[4]:2 overwritten at In[28]:2.\n",
      "WARNING: Method definition transform(Any, Any) in module Main at In[4]:16 overwritten at In[28]:16.\n"
     ]
    },
    {
     "data": {
      "text/plain": [
       "transform (generic function with 1 method)"
      ]
     },
     "execution_count": 28,
     "metadata": {},
     "output_type": "execute_result"
    }
   ],
   "source": [
    "function transform_grid!(f, xgrid, ygrid, zgrid)\n",
    "    N = size(xgrid,1)\n",
    "\n",
    "    for i in 1:N\n",
    "        for j in 1:N\n",
    "            y = f([xgrid[i, j], ygrid[i, j], 1])\n",
    "                \n",
    "            xgrid[i:i,j:j] = y[1]\n",
    "            ygrid[i:i,j:j] = y[2]\n",
    "            zgrid[i:i,j:j] = y[3]\n",
    "        end\n",
    "    end\n",
    "end\n",
    "\n",
    "function transform(f, X)\n",
    "    N = size(X, 1)\n",
    "    \n",
    "    xd = zeros(N)\n",
    "    yd = zeros(N)\n",
    "    zd = zeros(N)\n",
    "    \n",
    "    for i in 1:N\n",
    "        y = f([X[i, 1], X[i, 2], 1])\n",
    "        \n",
    "        xd[i] = y[1]\n",
    "        yd[i] = y[2]\n",
    "        zd[i] = y[3]\n",
    "    end\n",
    "    \n",
    "    xd,yd,zd\n",
    "end"
   ]
  },
  {
   "cell_type": "code",
   "execution_count": 35,
   "metadata": {
    "collapsed": false
   },
   "outputs": [
    {
     "data": {
      "text/html": [],
      "text/plain": [
       "Interact.Options{:SelectionSlider,Float64}(Signal{Float64}(2.2689280275926285, nactions=1),\"α\",2.2689280275926285,\"2.2689280275926285\",Interact.OptionDict(DataStructures.OrderedDict(\"1.5707963267948966\"=>1.5708,\"1.7453292519943295\"=>1.74533,\"1.9198621771937623\"=>1.91986,\"2.0943951023931953\"=>2.0944,\"2.2689280275926285\"=>2.26893,\"2.443460952792061\"=>2.44346,\"2.617993877991494\"=>2.61799,\"2.792526803190927\"=>2.79253,\"2.9670597283903604\"=>2.96706,\"3.141592653589793\"=>3.14159…),Dict(1.5708=>\"1.5707963267948966\",1.74533=>\"1.7453292519943295\",1.91986=>\"1.9198621771937623\",2.26893=>\"2.2689280275926285\",2.96706=>\"2.9670597283903604\",2.79253=>\"2.792526803190927\",2.44346=>\"2.443460952792061\",2.61799=>\"2.617993877991494\",3.14159=>\"3.141592653589793\",2.0944=>\"2.0943951023931953\"…)),Any[],Any[],true,\"horizontal\")"
      ]
     },
     "metadata": {},
     "output_type": "display_data"
    }
   ],
   "source": [
    "X, y = lin_sep_two_clouds();\n",
    "\n",
    "fig = figure()\n",
    "@manipulate for α=linspace(pi/2, pi, 10)\n",
    "    withfig(fig) do\n",
    "        xlim(-.5,1.5)\n",
    "        ylim(-.5,1.5)\n",
    "        axis(\"off\")\n",
    "        plot(.5 + 10*[cos(α), cos(α+pi)], .5 + 10*[sin(α), sin(α+pi)],color=\"black\",linestyle=\"dashed\",linewidth=0.7)\n",
    "        scatter(X[:,1][y.==1], X[:,2][y.==1], marker=\"x\", c=\"black\")\n",
    "        scatter(X[:,1][y.==-1], X[:,2][y.==-1], marker=\".\", c=\"black\")\n",
    "    end\n",
    "end;"
   ]
  },
  {
   "cell_type": "code",
   "execution_count": 36,
   "metadata": {
    "collapsed": false
   },
   "outputs": [
    {
     "data": {
      "text/html": [],
      "text/plain": [
       "Interact.Slider{Int64}(Signal{Int64}(1, nactions=1),\"\",1,1:20,\"horizontal\",true,\"d\",true)"
      ]
     },
     "metadata": {},
     "output_type": "display_data"
    },
    {
     "data": {
      "text/html": [],
      "text/plain": [
       "Interact.Options{:ToggleButtons,Int64}(Signal{Int64}(0, nactions=1),\"showing\",0,\"none\",Interact.OptionDict(DataStructures.OrderedDict(\"none\"=>0,\"space_boundary\"=>1,\"circle_boundary\"=>2),Dict(0=>\"none\",2=>\"circle_boundary\",1=>\"space_boundary\")),Any[],Any[],true,\"horizontal\")"
      ]
     },
     "metadata": {},
     "output_type": "display_data"
    }
   ],
   "source": [
    "xrange, yrange = linspace(-2, 2, N), linspace(-2, 2, N)\n",
    "\n",
    "f = (x) -> [x[1]^2, x[2]^2, sqrt(2)x[1]x[2]]\n",
    "X, y = two_cocentric();\n",
    "\n",
    "@manipulate for step=slider(1:20, value=1),\n",
    "                showing=[:none => 0,\n",
    "                         :space_boundary => 1,\n",
    "                         :circle_boundary => 2\n",
    "                        ]\n",
    "    \n",
    "    λ = linspace(0, 1, 20)[step]\n",
    "    g = (x) -> (1 - λ) * x + λ * f(x)\n",
    "\n",
    "    xgrid = repmat(xrange', N, 1)\n",
    "    ygrid = repmat(yrange, 1, N)\n",
    "    zgrid = zeros(N,N)\n",
    "\n",
    "    xsep = repmat(xrange', N, 1) + .5\n",
    "    ysep = -repmat(xrange', N, 1) + .5\n",
    "    zsep = 2*repmat(yrange, 1, N)\n",
    "    \n",
    "    angles = repmat(linspace(-pi, pi, 20), 20, 2)\n",
    "    xb,yb,zb = transform((x) -> g([cos(x[1]), sin(x[1]), 1]), angles)\n",
    "    \n",
    "    transform_grid!(g, xgrid, ygrid, zgrid)\n",
    "\n",
    "    xd, yd, zd = transform(g, X)\n",
    "\n",
    "    withfig(fig) do\n",
    "        clf()\n",
    "        \n",
    "        plt[:gca](projection=\"3d\")[:_axis3don] = false\n",
    "        mesh(xgrid, ygrid, zgrid, color=\"black\", linestyles=\"dashed\", linewidths=0.3)\n",
    "        \n",
    "        if showing > 0\n",
    "            mesh(xb, yb, zb, color=\"red\", linestyles=\"dashed\", linewidths=0.3)\n",
    "            \n",
    "            if showing == 1\n",
    "                mesh(xsep, ysep, zsep, color=\"red\", linestyles=\"dashed\", linewidths=0.3)\n",
    "            end\n",
    "        end\n",
    "        scatter3D(xd[y.==1], yd[y.==1], zd[y.==1], marker=\".\")\n",
    "        scatter3D(xd[y.==-1], yd[y.==-1], zd[y.==-1], marker=\"x\")\n",
    "    end\n",
    "end;"
   ]
  },
  {
   "cell_type": "code",
   "execution_count": null,
   "metadata": {
    "collapsed": true
   },
   "outputs": [],
   "source": [
    "pygui(true)\n",
    "ion()\n",
    "\n",
    "fig = figure();"
   ]
  }
 ],
 "metadata": {
  "kernelspec": {
   "display_name": "Julia 0.5.0",
   "language": "julia",
   "name": "julia-0.5"
  },
  "language_info": {
   "file_extension": ".jl",
   "mimetype": "application/julia",
   "name": "julia",
   "version": "0.5.1"
  },
  "widgets": {
   "state": {
    "00c2c7ec-6ab1-42f1-a652-24630f5e80e0": {
     "views": [
      {
       "cell_index": 4
      }
     ]
    },
    "373441af-18e2-464a-b5ab-57e1aaf6b097": {
     "views": [
      {
       "cell_index": 3
      }
     ]
    },
    "faa74e47-70b2-47b8-8cd1-f7095114b2e6": {
     "views": [
      {
       "cell_index": 4
      }
     ]
    }
   },
   "version": "1.2.0"
  }
 },
 "nbformat": 4,
 "nbformat_minor": 2
}
