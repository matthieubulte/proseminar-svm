{
 "cells": [
  {
   "cell_type": "code",
   "execution_count": 4,
   "metadata": {
    "collapsed": false
   },
   "outputs": [
    {
     "name": "stdout",
     "output_type": "stream",
     "text": [
      "Automatically created module for IPython interactive environment\n",
      "Using matplotlib backend: Qt5Agg\n"
     ]
    }
   ],
   "source": [
    "print(__doc__)\n",
    "\n",
    "import numpy as np\n",
    "import matplotlib.pyplot as plt\n",
    "import matplotlib.font_manager\n",
    "from sklearn import svm\n",
    "from mpl_toolkits.mplot3d import Axes3D\n",
    "import math\n",
    "\n",
    "\n",
    "%matplotlib "
   ]
  },
  {
   "cell_type": "code",
   "execution_count": 2,
   "metadata": {
    "collapsed": false
   },
   "outputs": [],
   "source": [
    "# rbf plot\n",
    "\n",
    "xx, yy = np.meshgrid(np.linspace(-5, 5, 500), np.linspace(-5, 5, 500))\n",
    "# Generate train data\n",
    "X = 0.5 * np.random.randn(10, 2)\n",
    "X = np.r_[X + [-3, 1.5], X + [3, -1.5], X - [1, 2], X + [1, 3]]\n",
    "y = np.r_[np.ones(20), -1*np.ones(20)]\n",
    "\n",
    "# fit the model\n",
    "clf = svm.SVC(C=0.1, kernel=\"rbf\", gamma=0.1)\n",
    "clf.fit(X, y)\n",
    "\n",
    "# plot the line, the points, and the nearest vectors to the plane\n",
    "Z = clf.decision_function(np.c_[xx.ravel(), yy.ravel()])\n",
    "Z = Z.reshape(xx.shape)\n",
    "\n",
    "plt.contour(xx, yy, Z, levels=np.linspace(Z.min(), 0, 7), colors='black', linewidths=0.5)\n",
    "\n",
    "plt.plot(X[:, 0][y == 1], X[:, 1][y == 1], 'x', mfc='none', c='k');\n",
    "plt.plot(X[:, 0][y == -1], X[:, 1][y == -1], 'o', mfc='none', c='k');\n",
    "\n",
    "plt.axis('off');"
   ]
  },
  {
   "cell_type": "code",
   "execution_count": null,
   "metadata": {
    "collapsed": true
   },
   "outputs": [],
   "source": [
    "\n",
    "angles = 2*math.pi * np.random.randn(30)\n",
    "X = np.r_[0.9*np.random.randn(15,2),\n",
    "          3*np.column_stack((np.cos(angles), np.sin(angles))) + 0.2*np.random.randn(30,2)]\n",
    "\n",
    "y = np.r_[np.ones(15), -1*np.ones(30)]\n"
   ]
  },
  {
   "cell_type": "code",
   "execution_count": 6,
   "metadata": {
    "collapsed": false
   },
   "outputs": [
    {
     "data": {
      "text/plain": [
       "(-3.2966069782520924,\n",
       " 3.5042534134474588,\n",
       " -3.3709454351765369,\n",
       " 3.3933192142835806)"
      ]
     },
     "execution_count": 6,
     "metadata": {},
     "output_type": "execute_result"
    }
   ],
   "source": [
    "# poly plot\n",
    "xx, yy = np.meshgrid(np.linspace(-4, 4, 500), np.linspace(-4, 4, 500))\n",
    "\n",
    "# fit the model\n",
    "clf = svm.SVC(C=0.1, kernel=\"poly\", degree=2)\n",
    "clf.fit(X, y)\n",
    "\n",
    "# plot the line, the points, and the nearest vectors to the plane\n",
    "Z = clf.decision_function(np.c_[xx.ravel(), yy.ravel()])\n",
    "Z = Z.reshape(xx.shape)\n",
    "\n",
    "plt.clf()\n",
    "plt.plot(X[:, 0][y == 1], X[:, 1][y == 1], 'x', mfc='none', c='k');\n",
    "plt.plot(X[:, 0][y == -1], X[:, 1][y == -1], 'o', mfc='none', c='k');\n",
    "\n",
    "#plt.contour(xx, yy, Z, levels=[0],linestyles='dashed', colors='black', linewidths=0.5)\n",
    "\n",
    "plt.axis('off')\n"
   ]
  },
  {
   "cell_type": "code",
   "execution_count": 265,
   "metadata": {
    "collapsed": false
   },
   "outputs": [],
   "source": [
    "fig = plt.figure()"
   ]
  },
  {
   "cell_type": "code",
   "execution_count": 280,
   "metadata": {
    "collapsed": false
   },
   "outputs": [
    {
     "data": {
      "text/plain": [
       "[]"
      ]
     },
     "execution_count": 280,
     "metadata": {},
     "output_type": "execute_result"
    }
   ],
   "source": [
    "Z = np.column_stack((X[:,0]**2, math.sqrt(2)*X[:,0]*X[:,1], X[:,1]**2))\n",
    "\n",
    "\n",
    "xx, yy = np.meshgrid(np.linspace(-2, 8, 10), np.linspace(-10, 10, 10))\n",
    "z = -1.0*xx + 5\n",
    "\n",
    "fig.clf()\n",
    "ax = fig.add_subplot(111, projection='3d')\n",
    "#ax.axis('off')\n",
    "ax.w_xaxis.set_pane_color((0,0,0,0))\n",
    "ax.w_yaxis.set_pane_color((0,0,0,0))\n",
    "ax.w_zaxis.set_pane_color((0,0,0,0))\n",
    "\n",
    "ax.grid('off')\n",
    "ax.plot(Z[:,0][y == 1], Z[:,1][y == 1], Z[:,2][y == 1], 'x', mfc='none', c='k');\n",
    "ax.plot(Z[:,0][y == -1], Z[:,1][y == -1], Z[:,2][y == -1], 'o', mfc='none', c='k');\n",
    "ax.plot_wireframe(xx,yy,z, color=\"black\", linewidths=0.2, alpha=0.5);\n",
    "ax.axes.set_xticks([])\n",
    "ax.axes.set_yticks([])\n",
    "ax.set_zticks([])"
   ]
  },
  {
   "cell_type": "code",
   "execution_count": 231,
   "metadata": {
    "collapsed": true
   },
   "outputs": [],
   "source": [
    "?ax.plot_surface"
   ]
  }
 ],
 "metadata": {
  "kernelspec": {
   "display_name": "Python [conda root]",
   "language": "python",
   "name": "conda-root-py"
  },
  "language_info": {
   "codemirror_mode": {
    "name": "ipython",
    "version": 2
   },
   "file_extension": ".py",
   "mimetype": "text/x-python",
   "name": "python",
   "nbconvert_exporter": "python",
   "pygments_lexer": "ipython2",
   "version": "2.7.13"
  }
 },
 "nbformat": 4,
 "nbformat_minor": 2
}
