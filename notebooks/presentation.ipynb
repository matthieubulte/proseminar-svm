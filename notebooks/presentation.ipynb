{
 "cells": [
  {
   "cell_type": "code",
   "execution_count": 1,
   "metadata": {
    "collapsed": false
   },
   "outputs": [
    {
     "data": {
      "text/html": [
       "<div id=\"interact-js-shim\">\n",
       "    <script charset=\"utf-8\">\n",
       "(function (IPython, $, _, MathJax) {\n",
       "    $.event.special.destroyed = {\n",
       "\tremove: function(o) {\n",
       "\t    if (o.handler) {\n",
       "\t\to.handler.apply(this, arguments)\n",
       "\t    }\n",
       "\t}\n",
       "    }\n",
       "\n",
       "    var OutputArea = IPython.version >= \"4.0.0\" ? require(\"notebook/js/outputarea\").OutputArea : IPython.OutputArea;\n",
       "\n",
       "    var redrawValue = function (container, type, val) {\n",
       "\tvar selector = $(\"<div/>\");\n",
       "\tvar oa = new OutputArea(_.extend(selector, {\n",
       "\t    selector: selector,\n",
       "\t    prompt_area: true,\n",
       "\t    events: IPython.events,\n",
       "\t    keyboard_manager: IPython.keyboard_manager\n",
       "\t})); // Hack to work with IPython 2.1.0\n",
       "\n",
       "\tswitch (type) {\n",
       "\tcase \"image/png\":\n",
       "            var _src = 'data:' + type + ';base64,' + val;\n",
       "\t    $(container).find(\"img\").attr('src', _src);\n",
       "\t    break;\n",
       "\tcase \"text/latex\":\n",
       "\t\tif (MathJax){\n",
       "\t\t\tvar math = MathJax.Hub.getAllJax(container)[0];\n",
       "\t\t\tMathJax.Hub.Queue([\"Text\", math, val.replace(/^\\${1,2}|\\${1,2}$/g, '')]);\n",
       "\t\t\tbreak;\n",
       "\t\t}\n",
       "\tdefault:\n",
       "\t    var toinsert = OutputArea.append_map[type].apply(\n",
       "\t\toa, [val, {}, selector]\n",
       "\t    );\n",
       "\t    $(container).empty().append(toinsert.contents());\n",
       "\t    selector.remove();\n",
       "\t}\n",
       "    }\n",
       "\n",
       "\n",
       "    $(document).ready(function() {\n",
       "\tfunction initComm(evt, data) {\n",
       "\t    var comm_manager = data.kernel.comm_manager;\n",
       "        //_.extend(comm_manager.targets, require(\"widgets/js/widget\"))\n",
       "\t    comm_manager.register_target(\"Signal\", function (comm) {\n",
       "            comm.on_msg(function (msg) {\n",
       "                var val = msg.content.data.value;\n",
       "                $(\".signal-\" + comm.comm_id).each(function() {\n",
       "                var type = $(this).data(\"type\");\n",
       "                if (typeof(val[type]) !== \"undefined\" && val[type] !== null) {\n",
       "                    redrawValue(this, type, val[type], type);\n",
       "                }\n",
       "                });\n",
       "                delete val;\n",
       "                delete msg.content.data.value;\n",
       "            });\n",
       "\t    });\n",
       "\n",
       "\t    // coordingate with Comm and redraw Signals\n",
       "\t    // XXX: Test using Reactive here to improve performance\n",
       "\t    $([IPython.events]).on(\n",
       "\t\t'output_appended.OutputArea', function (event, type, value, md, toinsert) {\n",
       "\t\t    if (md && md.reactive) {\n",
       "                // console.log(md.comm_id);\n",
       "                toinsert.addClass(\"signal-\" + md.comm_id);\n",
       "                toinsert.data(\"type\", type);\n",
       "                // Signal back indicating the mimetype required\n",
       "                var comm_manager = IPython.notebook.kernel.comm_manager;\n",
       "                var comm = comm_manager.comms[md.comm_id];\n",
       "                comm.then(function (c) {\n",
       "                    c.send({action: \"subscribe_mime\",\n",
       "                       mime: type});\n",
       "                    toinsert.bind(\"destroyed\", function() {\n",
       "                        c.send({action: \"unsubscribe_mime\",\n",
       "                               mime: type});\n",
       "                    });\n",
       "                })\n",
       "\t\t    }\n",
       "\t    });\n",
       "\t}\n",
       "\n",
       "\ttry {\n",
       "\t    // try to initialize right away. otherwise, wait on the status_started event.\n",
       "\t    initComm(undefined, IPython.notebook);\n",
       "\t} catch (e) {\n",
       "\t    $([IPython.events]).on('kernel_created.Kernel kernel_created.Session', initComm);\n",
       "\t}\n",
       "    });\n",
       "})(IPython, jQuery, _, MathJax);\n",
       "</script>\n",
       "    <script>\n",
       "        window.interactLoadedFlag = true\n",
       "       $(\"#interact-js-shim\").bind(\"destroyed\", function () {\n",
       "           if (window.interactLoadedFlag) {\n",
       "               console.warn(\"JavaScript required by Interact will be removed if you remove this cell or run using Interact more than once.\")\n",
       "           }\n",
       "       })\n",
       "       $([IPython.events]).on(\"kernel_starting.Kernel kernel_restarting.Kernel\", function () { window.interactLoadedFlag = false })\n",
       "   </script>\n",
       "</div>"
      ]
     },
     "metadata": {},
     "output_type": "display_data"
    }
   ],
   "source": [
    "using PyPlot\n",
    "using Interact\n",
    "using Distributions\n",
    "\n",
    "include(\"presentation.jl\")\n",
    "\n",
    "pygui(true)\n",
    "ion()\n",
    "fig = figure();"
   ]
  },
  {
   "cell_type": "code",
   "execution_count": 2,
   "metadata": {
    "collapsed": false
   },
   "outputs": [
    {
     "data": {
      "text/html": [],
      "text/plain": [
       "Interact.Options{:SelectionSlider,Float64}(Signal{Float64}(2.340165956245458, nactions=1),\"α\",2.340165956245458,\"2.340165956245458\",Interact.OptionDict(DataStructures.OrderedDict(\"1.5707963267948966\"=>1.5708,\"1.60285339468867\"=>1.60285,\"1.6349104625824435\"=>1.63491,\"1.6669675304762166\"=>1.66697,\"1.69902459836999\"=>1.69902,\"1.7310816662637636\"=>1.73108,\"1.7631387341575369\"=>1.76314,\"1.7951958020513104\"=>1.7952,\"1.8272528699450836\"=>1.82725,\"1.8593099378388571\"=>1.85931…),Dict(2.27605=>\"2.276051820457911\",2.59662=>\"2.5966224993956453\",1.98754=>\"1.9875382094139509\",2.94925=>\"2.9492502462271526\",1.92342=>\"1.9234240736264039\",2.34017=>\"2.340165956245458\",2.62868=>\"2.628679567289419\",1.66697=>\"1.6669675304762166\",1.5708=>\"1.5707963267948966\",2.82102=>\"2.8210219746520586\"…)),Any[],Any[],true,\"horizontal\")"
      ]
     },
     "metadata": {},
     "output_type": "display_data"
    },
    {
     "data": {
      "text/html": [],
      "text/plain": [
       "Interact.Options{:SelectionSlider,Float64}(Signal{Float64}(0.7448979591836735, nactions=1),\"b\",0.7448979591836735,\"0.7448979591836735\",Interact.OptionDict(DataStructures.OrderedDict(\"0.5\"=>0.5,\"0.5102040816326531\"=>0.510204,\"0.5204081632653061\"=>0.520408,\"0.5306122448979592\"=>0.530612,\"0.5408163265306123\"=>0.540816,\"0.5510204081632653\"=>0.55102,\"0.5612244897959183\"=>0.561224,\"0.5714285714285714\"=>0.571429,\"0.5816326530612245\"=>0.581633,\"0.5918367346938775\"=>0.591837…),Dict(0.622449=>\"0.6224489795918368\",0.663265=>\"0.6632653061224489\",0.602041=>\"0.6020408163265306\",0.795918=>\"0.7959183673469388\",0.908163=>\"0.9081632653061225\",0.846939=>\"0.8469387755102041\",0.591837=>\"0.5918367346938775\",0.693878=>\"0.6938775510204082\",0.959184=>\"0.9591836734693877\",0.55102=>\"0.5510204081632653\"…)),Any[],Any[],true,\"horizontal\")"
      ]
     },
     "metadata": {},
     "output_type": "display_data"
    },
    {
     "data": {
      "image/png": "[encoded data removed]",
      "text/plain": [
       "PyPlot.Figure(PyObject <matplotlib.figure.Figure object at 0x7f4206ee4550>)"
      ]
     },
     "execution_count": 2,
     "metadata": {
      "comm_id": "db228d5e-d77c-46db-b02c-19a2baa67055",
      "reactive": true
     },
     "output_type": "execute_result"
    }
   ],
   "source": [
    "demo_1()"
   ]
  },
  {
   "cell_type": "code",
   "execution_count": 2,
   "metadata": {
    "collapsed": false
   },
   "outputs": [
    {
     "data": {
      "text/html": [],
      "text/plain": [
       "Interact.Slider{Int64}(Signal{Int64}(1, nactions=1),\"\",1,1:20,\"horizontal\",true,\"d\",true)"
      ]
     },
     "metadata": {},
     "output_type": "display_data"
    },
    {
     "data": {
      "text/html": [],
      "text/plain": [
       "Interact.Options{:ToggleButtons,Int64}(Signal{Int64}(0, nactions=1),\"showing\",0,\"none\",Interact.OptionDict(DataStructures.OrderedDict(\"none\"=>0,\"space_boundary\"=>1,\"both\"=>2,\"intersection\"=>3),Dict(0=>\"none\",2=>\"both\",3=>\"intersection\",1=>\"space_boundary\")),Any[],Any[],true,\"horizontal\")"
      ]
     },
     "metadata": {},
     "output_type": "display_data"
    },
    {
     "data": {
      "image/png": "[encoded data removed]",
      "text/plain": [
       "PyPlot.Figure(PyObject <matplotlib.figure.Figure object at 0x7fbb45093550>)"
      ]
     },
     "execution_count": 2,
     "metadata": {
      "comm_id": "e2c62412-2d33-4aa4-8964-4b4c0aa56dd3",
      "reactive": true
     },
     "output_type": "execute_result"
    }
   ],
   "source": [
    "demo_2()"
   ]
  }
 ],
 "metadata": {
  "kernelspec": {
   "display_name": "Julia 0.5.0",
   "language": "julia",
   "name": "julia-0.5"
  },
  "language_info": {
   "file_extension": ".jl",
   "mimetype": "application/julia",
   "name": "julia",
   "version": "0.5.1"
  },
  "widgets": {
   "state": {
    "006939e2-4049-4469-a36d-530f92846f19": {
     "views": [
      {
       "cell_index": 1
      }
     ]
    },
    "044c4891-c05a-4572-b3c7-eb38aa0f4d3b": {
     "views": [
      {
       "cell_index": 1
      }
     ]
    },
    "067ff3e5-2546-4c4f-af7b-89404392c818": {
     "views": [
      {
       "cell_index": 1
      }
     ]
    },
    "06c1c0f3-7d86-483c-bfef-3243c938d2dd": {
     "views": [
      {
       "cell_index": 1
      }
     ]
    },
    "088c9242-7a92-4dc0-9b6a-151431f22d5e": {
     "views": [
      {
       "cell_index": 1
      }
     ]
    },
    "1273adc9-201e-4b8d-81e7-316103c21628": {
     "views": [
      {
       "cell_index": 1
      }
     ]
    },
    "1299e123-27d9-4a51-bdb7-570489c0116c": {
     "views": [
      {
       "cell_index": 1
      }
     ]
    },
    "129cc26d-d155-4833-8ea1-d6b00c13e03c": {
     "views": [
      {
       "cell_index": 1
      }
     ]
    },
    "12c6a7f3-a8f2-4e11-be1f-d3c777fef695": {
     "views": [
      {
       "cell_index": 1
      }
     ]
    },
    "1d8394cd-da7c-417c-9853-d9b5dc315d80": {
     "views": [
      {
       "cell_index": 1
      }
     ]
    },
    "1f53e27d-9cd2-4e7f-92bd-055b1a27585b": {
     "views": [
      {
       "cell_index": 1
      }
     ]
    },
    "239af9a3-c559-407c-b51d-dd29c8220a64": {
     "views": [
      {
       "cell_index": 1
      }
     ]
    },
    "2fa9f96d-48fd-4dd8-a75a-0373ea303849": {
     "views": [
      {
       "cell_index": 1
      }
     ]
    },
    "3343888f-0e5e-4981-bb27-0d499b6d8f41": {
     "views": [
      {
       "cell_index": 1
      }
     ]
    },
    "386a41fc-08fa-4294-9d2e-fefe942730b9": {
     "views": [
      {
       "cell_index": 1
      }
     ]
    },
    "386dfd62-5cfa-4f13-bf42-613435a93976": {
     "views": [
      {
       "cell_index": 1
      }
     ]
    },
    "39968fb5-8e9e-4000-a1ae-eae17f2d80f9": {
     "views": [
      {
       "cell_index": 1
      }
     ]
    },
    "39c477d9-de6e-45b4-8f41-6e3776404afc": {
     "views": [
      {
       "cell_index": 1
      }
     ]
    },
    "4582b6c2-65c4-4158-87ff-3f058188f0d4": {
     "views": [
      {
       "cell_index": 1
      }
     ]
    },
    "46166f70-272e-4db0-be90-9e4585e4b080": {
     "views": [
      {
       "cell_index": 1
      }
     ]
    },
    "4d3497a1-1ebb-4270-b09a-446bd3fa9851": {
     "views": [
      {
       "cell_index": 1
      }
     ]
    },
    "4ef19486-bcbd-41de-8bf2-18429c9a016f": {
     "views": [
      {
       "cell_index": 1
      }
     ]
    },
    "50db6e2b-8d81-4274-9207-4ee9bf224f47": {
     "views": [
      {
       "cell_index": 1
      }
     ]
    },
    "54dcdab4-d94d-4bad-b10b-e1a77cdd4ed5": {
     "views": [
      {
       "cell_index": 1
      }
     ]
    },
    "574326fe-30a2-4f87-8621-fb999cac590a": {
     "views": [
      {
       "cell_index": 1
      }
     ]
    },
    "579b8226-5988-4e5d-88e5-77ce86262d52": {
     "views": [
      {
       "cell_index": 1
      }
     ]
    },
    "5896b0c8-1a1b-4be5-a358-279a03c3de38": {
     "views": [
      {
       "cell_index": 1
      }
     ]
    },
    "5a5a07cb-8fd4-4854-9c27-49eaa1f4b769": {
     "views": [
      {
       "cell_index": 1
      }
     ]
    },
    "690039d4-7381-4fdb-8228-404338f79557": {
     "views": [
      {
       "cell_index": 1
      }
     ]
    },
    "6e6f14da-a633-4c4f-be27-a8f4b2ca3b0e": {
     "views": [
      {
       "cell_index": 1
      }
     ]
    },
    "759ec3e8-d811-4feb-a5ea-c4f96bfadf05": {
     "views": [
      {
       "cell_index": 1
      }
     ]
    },
    "77be7772-9bcd-4272-880d-dc11064c4fd0": {
     "views": [
      {
       "cell_index": 1
      }
     ]
    },
    "7905f368-daea-4499-83ec-a6a70d3f04db": {
     "views": [
      {
       "cell_index": 1
      }
     ]
    },
    "7a51ba78-a918-4359-81bc-9d3cf891795e": {
     "views": [
      {
       "cell_index": 1
      }
     ]
    },
    "83d90217-7c47-4322-bf40-fad5eddb295d": {
     "views": [
      {
       "cell_index": 1
      }
     ]
    },
    "8431a5f8-95f6-493b-afcc-8129d5b64329": {
     "views": [
      {
       "cell_index": 1
      }
     ]
    },
    "8580610f-1ebf-4dc9-a6d9-ac658f225193": {
     "views": [
      {
       "cell_index": 1
      }
     ]
    },
    "894d2f2d-21bc-4d35-9da9-6001696b4730": {
     "views": [
      {
       "cell_index": 1
      }
     ]
    },
    "8a7f5c39-3a0a-4692-bef4-d0a32b1fe3b6": {
     "views": [
      {
       "cell_index": 1
      }
     ]
    },
    "932f9a61-b1b5-4cd6-ad3c-b52ba1070c9e": {
     "views": [
      {
       "cell_index": 1
      }
     ]
    },
    "9632f89e-7a4d-4ee1-b4bc-112520da03a2": {
     "views": [
      {
       "cell_index": 1
      }
     ]
    },
    "9d3696a2-340e-492b-b72b-b1febd529688": {
     "views": [
      {
       "cell_index": 1
      }
     ]
    },
    "a15741c5-1fe2-4bac-bd1e-87384e672c60": {
     "views": [
      {
       "cell_index": 1
      }
     ]
    },
    "a5e36b97-b12c-40f3-8f74-c86ccf6a0d35": {
     "views": [
      {
       "cell_index": 1
      }
     ]
    },
    "a69a3bfd-3507-44d4-a7dc-c275f4f75291": {
     "views": [
      {
       "cell_index": 1
      }
     ]
    },
    "a813f00a-e205-455f-acaf-591ae1862613": {
     "views": [
      {
       "cell_index": 1
      }
     ]
    },
    "a908e0a5-4d62-4dd7-9b83-fcdfe70b801e": {
     "views": [
      {
       "cell_index": 1
      }
     ]
    },
    "bbf96c30-a351-400b-b244-5f86baa4e20a": {
     "views": [
      {
       "cell_index": 1
      }
     ]
    },
    "bca5bd1a-7178-4dee-b9a5-5195a53a17c7": {
     "views": [
      {
       "cell_index": 1
      }
     ]
    },
    "c0524b51-fb77-4ddd-addd-37780e6631ee": {
     "views": [
      {
       "cell_index": 1
      }
     ]
    },
    "c1870400-adc3-43af-85a9-ceb65cce5337": {
     "views": [
      {
       "cell_index": 1
      }
     ]
    },
    "c33ba681-5c6e-4417-8d21-b0e597511ed9": {
     "views": [
      {
       "cell_index": 1
      }
     ]
    },
    "c5608068-9249-4e4b-9087-1bea71c87ce7": {
     "views": [
      {
       "cell_index": 1
      }
     ]
    },
    "c78cfc67-ee47-4bfb-9b3a-36668b6092a2": {
     "views": [
      {
       "cell_index": 1
      }
     ]
    },
    "ca05b339-e47b-47f3-bb3e-3557d35a3122": {
     "views": [
      {
       "cell_index": 1
      }
     ]
    },
    "cca95f61-edf5-427e-b3e3-d0eb4d06ce98": {
     "views": [
      {
       "cell_index": 1
      }
     ]
    },
    "cf830cc5-909d-47c0-932a-c78070d8ac9d": {
     "views": [
      {
       "cell_index": 1
      }
     ]
    },
    "d2260c08-a3d9-488b-84e7-b35eabd425fe": {
     "views": [
      {
       "cell_index": 1
      }
     ]
    },
    "d3d48863-d9ab-4907-bbe4-130294f2531e": {
     "views": [
      {
       "cell_index": 1
      }
     ]
    },
    "dc0baed8-59ee-4766-9b59-fe13f0d6d1c5": {
     "views": [
      {
       "cell_index": 1
      }
     ]
    },
    "dec86a26-dbce-4e67-acbf-040076b9e046": {
     "views": [
      {
       "cell_index": 1
      }
     ]
    },
    "e0f24e52-e255-4715-bc7c-7359210d504f": {
     "views": [
      {
       "cell_index": 1
      }
     ]
    },
    "e5cf3cbc-1361-4c7a-aedd-9eea71f8540b": {
     "views": [
      {
       "cell_index": 1
      }
     ]
    },
    "e6757fd7-37eb-4e7e-ad85-fcc79001e21e": {
     "views": [
      {
       "cell_index": 1
      }
     ]
    },
    "e959af4a-b91f-4383-8db1-2e1a1259468c": {
     "views": [
      {
       "cell_index": 1
      }
     ]
    },
    "ede62d53-2343-4ba2-ac2f-30bdb89a9cb2": {
     "views": [
      {
       "cell_index": 1
      }
     ]
    },
    "eeae5ca4-802a-4ef9-a084-828095e070db": {
     "views": [
      {
       "cell_index": 1
      }
     ]
    },
    "f804f098-8d30-42ce-93d4-0b05ff5317ad": {
     "views": [
      {
       "cell_index": 1
      }
     ]
    }
   },
   "version": "1.2.0"
  }
 },
 "nbformat": 4,
 "nbformat_minor": 2
}
