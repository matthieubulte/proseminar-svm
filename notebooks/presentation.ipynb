{
 "cells": [
  {
   "cell_type": "code",
   "execution_count": 1,
   "metadata": {
    "collapsed": false
   },
   "outputs": [
    {
     "data": {
      "text/html": [
       "<div id=\"interact-js-shim\">\n",
       "    <script charset=\"utf-8\">\n",
       "(function (IPython, $, _, MathJax) {\n",
       "    $.event.special.destroyed = {\n",
       "\tremove: function(o) {\n",
       "\t    if (o.handler) {\n",
       "\t\to.handler.apply(this, arguments)\n",
       "\t    }\n",
       "\t}\n",
       "    }\n",
       "\n",
       "    var OutputArea = IPython.version >= \"4.0.0\" ? require(\"notebook/js/outputarea\").OutputArea : IPython.OutputArea;\n",
       "\n",
       "    var redrawValue = function (container, type, val) {\n",
       "\tvar selector = $(\"<div/>\");\n",
       "\tvar oa = new OutputArea(_.extend(selector, {\n",
       "\t    selector: selector,\n",
       "\t    prompt_area: true,\n",
       "\t    events: IPython.events,\n",
       "\t    keyboard_manager: IPython.keyboard_manager\n",
       "\t})); // Hack to work with IPython 2.1.0\n",
       "\n",
       "\tswitch (type) {\n",
       "\tcase \"image/png\":\n",
       "            var _src = 'data:' + type + ';base64,' + val;\n",
       "\t    $(container).find(\"img\").attr('src', _src);\n",
       "\t    break;\n",
       "\tcase \"text/latex\":\n",
       "\t\tif (MathJax){\n",
       "\t\t\tvar math = MathJax.Hub.getAllJax(container)[0];\n",
       "\t\t\tMathJax.Hub.Queue([\"Text\", math, val.replace(/^\\${1,2}|\\${1,2}$/g, '')]);\n",
       "\t\t\tbreak;\n",
       "\t\t}\n",
       "\tdefault:\n",
       "\t    var toinsert = OutputArea.append_map[type].apply(\n",
       "\t\toa, [val, {}, selector]\n",
       "\t    );\n",
       "\t    $(container).empty().append(toinsert.contents());\n",
       "\t    selector.remove();\n",
       "\t}\n",
       "    }\n",
       "\n",
       "\n",
       "    $(document).ready(function() {\n",
       "\tfunction initComm(evt, data) {\n",
       "\t    var comm_manager = data.kernel.comm_manager;\n",
       "        //_.extend(comm_manager.targets, require(\"widgets/js/widget\"))\n",
       "\t    comm_manager.register_target(\"Signal\", function (comm) {\n",
       "            comm.on_msg(function (msg) {\n",
       "                var val = msg.content.data.value;\n",
       "                $(\".signal-\" + comm.comm_id).each(function() {\n",
       "                var type = $(this).data(\"type\");\n",
       "                if (typeof(val[type]) !== \"undefined\" && val[type] !== null) {\n",
       "                    redrawValue(this, type, val[type], type);\n",
       "                }\n",
       "                });\n",
       "                delete val;\n",
       "                delete msg.content.data.value;\n",
       "            });\n",
       "\t    });\n",
       "\n",
       "\t    // coordingate with Comm and redraw Signals\n",
       "\t    // XXX: Test using Reactive here to improve performance\n",
       "\t    $([IPython.events]).on(\n",
       "\t\t'output_appended.OutputArea', function (event, type, value, md, toinsert) {\n",
       "\t\t    if (md && md.reactive) {\n",
       "                // console.log(md.comm_id);\n",
       "                toinsert.addClass(\"signal-\" + md.comm_id);\n",
       "                toinsert.data(\"type\", type);\n",
       "                // Signal back indicating the mimetype required\n",
       "                var comm_manager = IPython.notebook.kernel.comm_manager;\n",
       "                var comm = comm_manager.comms[md.comm_id];\n",
       "                comm.then(function (c) {\n",
       "                    c.send({action: \"subscribe_mime\",\n",
       "                       mime: type});\n",
       "                    toinsert.bind(\"destroyed\", function() {\n",
       "                        c.send({action: \"unsubscribe_mime\",\n",
       "                               mime: type});\n",
       "                    });\n",
       "                })\n",
       "\t\t    }\n",
       "\t    });\n",
       "\t}\n",
       "\n",
       "\ttry {\n",
       "\t    // try to initialize right away. otherwise, wait on the status_started event.\n",
       "\t    initComm(undefined, IPython.notebook);\n",
       "\t} catch (e) {\n",
       "\t    $([IPython.events]).on('kernel_created.Kernel kernel_created.Session', initComm);\n",
       "\t}\n",
       "    });\n",
       "})(IPython, jQuery, _, MathJax);\n",
       "</script>\n",
       "    <script>\n",
       "        window.interactLoadedFlag = true\n",
       "       $(\"#interact-js-shim\").bind(\"destroyed\", function () {\n",
       "           if (window.interactLoadedFlag) {\n",
       "               console.warn(\"JavaScript required by Interact will be removed if you remove this cell or run using Interact more than once.\")\n",
       "           }\n",
       "       })\n",
       "       $([IPython.events]).on(\"kernel_starting.Kernel kernel_restarting.Kernel\", function () { window.interactLoadedFlag = false })\n",
       "   </script>\n",
       "</div>"
      ]
     },
     "metadata": {},
     "output_type": "display_data"
    },
    {
     "name": "stderr",
     "output_type": "stream",
     "text": [
      "WARNING: Method definition norm(Convex.AbstractExpr, Symbol) in module Convex at /home/mbulte/.julia/v0.5/Convex/src/atoms/second_order_cone/norm.jl:45 overwritten at deprecated.jl:49.\n"
     ]
    }
   ],
   "source": [
    "include(\"presentation.jl\")\n",
    "\n",
    "pygui(true)\n",
    "ion()\n",
    "fig = figure();"
   ]
  },
  {
   "cell_type": "code",
   "execution_count": 2,
   "metadata": {
    "collapsed": false
   },
   "outputs": [
    {
     "name": "stderr",
     "output_type": "stream",
     "text": [
      "\u001b[1m\u001b[31mWARNING: issym is deprecated, use issymmetric instead.\u001b[0m\n",
      " in issym(::"
     ]
    },
    {
     "data": {
      "text/html": [],
      "text/plain": [
       "Interact.Options{:SelectionSlider,Float64}(Signal{Float64}(2.340165956245458, nactions=1),\"α\",2.340165956245458,\"2.340165956245458\",Interact.OptionDict(DataStructures.OrderedDict(\"1.5707963267948966\"=>1.5708,\"1.60285339468867\"=>1.60285,\"1.6349104625824435\"=>1.63491,\"1.6669675304762166\"=>1.66697,\"1.69902459836999\"=>1.69902,\"1.7310816662637636\"=>1.73108,\"1.7631387341575369\"=>1.76314,\"1.7951958020513104\"=>1.7952,\"1.8272528699450836\"=>1.82725,\"1.8593099378388571\"=>1.85931…),Dict(2.27605=>\"2.276051820457911\",2.59662=>\"2.5966224993956453\",1.98754=>\"1.9875382094139509\",2.94925=>\"2.9492502462271526\",1.92342=>\"1.9234240736264039\",2.34017=>\"2.340165956245458\",2.62868=>\"2.628679567289419\",1.66697=>\"1.6669675304762166\",1.5708=>\"1.5707963267948966\",2.82102=>\"2.8210219746520586\"…)),Any[],Any[],true,\"horizontal\")"
      ]
     },
     "metadata": {},
     "output_type": "display_data"
    },
    {
     "data": {
      "text/html": [],
      "text/plain": [
       "Interact.Options{:SelectionSlider,Float64}(Signal{Float64}(0.7448979591836735, nactions=1),\"b\",0.7448979591836735,\"0.7448979591836735\",Interact.OptionDict(DataStructures.OrderedDict(\"0.5\"=>0.5,\"0.5102040816326531\"=>0.510204,\"0.5204081632653061\"=>0.520408,\"0.5306122448979592\"=>0.530612,\"0.5408163265306123\"=>0.540816,\"0.5510204081632653\"=>0.55102,\"0.5612244897959183\"=>0.561224,\"0.5714285714285714\"=>0.571429,\"0.5816326530612245\"=>0.581633,\"0.5918367346938775\"=>0.591837…),Dict(0.622449=>\"0.6224489795918368\",0.663265=>\"0.6632653061224489\",0.602041=>\"0.6020408163265306\",0.795918=>\"0.7959183673469388\",0.908163=>\"0.9081632653061225\",0.846939=>\"0.8469387755102041\",0.591837=>\"0.5918367346938775\",0.693878=>\"0.6938775510204082\",0.959184=>\"0.9591836734693877\",0.55102=>\"0.5510204081632653\"…)),Any[],Any[],true,\"horizontal\")"
      ]
     },
     "metadata": {},
     "output_type": "display_data"
    },
    {
     "data": {
      "text/html": [],
      "text/plain": [
       "Interact.Options{:ToggleButtons,Int64}(Signal{Int64}(0, nactions=1),\"showing\",0,\"none\",Interact.OptionDict(DataStructures.OrderedDict(\"none\"=>0,\"closest\"=>1,\"best\"=>2),Dict(0=>\"none\",2=>\"best\",1=>\"closest\")),Any[],Any[],true,\"horizontal\")"
      ]
     },
     "metadata": {},
     "output_type": "display_data"
    },
    {
     "name": "stderr",
     "output_type": "stream",
     "text": [
      "Array{Float64,2}, ::Vararg{Array{Float64,2},N}) at ./deprecated.jl:30\n",
      " in quadform(::Convex.Variable, ::Array{Float64,2}) at /home/mbulte/.julia/v0.5/Convex/src/atoms/second_order_cone/quadform.jl:11\n",
      " in #train_svm#23(::Base.LinAlg.#vecdot, ::Float64, ::Function, ::Array{Float64,2}, ::Array{Int64,1}) at /home/mbulte/Documents/university/sem4/proseminar/notebooks/presentation.jl:101\n",
      " in demo_1() at /home/mbulte/Documents/university/sem4/proseminar/notebooks/presentation.jl:135\n",
      " in execute_request(::ZMQ.Socket, ::IJulia.Msg) at /home/mbulte/.julia/v0.5/IJulia/src/execute_request.jl:157\n",
      " in eventloop(::ZMQ.Socket) at /home/mbulte/.julia/v0.5/IJulia/src/eventloop.jl:8\n",
      " in (::IJulia.##13#19)() at ./task.jl:360\n",
      "while loading In[2], in expression starting on line 1\n"
     ]
    },
    {
     "data": {
      "image/png": "[encoded data removed]",
      "text/plain": [
       "PyPlot.Figure(PyObject <matplotlib.figure.Figure object at 0x7fccc7320550>)"
      ]
     },
     "execution_count": 2,
     "metadata": {
      "comm_id": "022192a1-3c28-4fa8-934a-aebc4b9e3e86",
      "reactive": true
     },
     "output_type": "execute_result"
    }
   ],
   "source": [
    "demo_1()"
   ]
  },
  {
   "cell_type": "code",
   "execution_count": 2,
   "metadata": {
    "collapsed": false
   },
   "outputs": [
    {
     "data": {
      "text/html": [],
      "text/plain": [
       "Interact.Slider{Int64}(Signal{Int64}(1, nactions=1),\"\",1,1:20,\"horizontal\",true,\"d\",true)"
      ]
     },
     "metadata": {},
     "output_type": "display_data"
    },
    {
     "data": {
      "text/html": [],
      "text/plain": [
       "Interact.Options{:ToggleButtons,Int64}(Signal{Int64}(0, nactions=1),\"showing\",0,\"none\",Interact.OptionDict(DataStructures.OrderedDict(\"none\"=>0,\"space_boundary\"=>1,\"both\"=>2,\"intersection\"=>3),Dict(0=>\"none\",2=>\"both\",3=>\"intersection\",1=>\"space_boundary\")),Any[],Any[],true,\"horizontal\")"
      ]
     },
     "metadata": {},
     "output_type": "display_data"
    },
    {
     "data": {
      "image/png": "[encoded data removed]",
      "text/plain": [
       "PyPlot.Figure(PyObject <matplotlib.figure.Figure object at 0x7fbb45093550>)"
      ]
     },
     "execution_count": 2,
     "metadata": {
      "comm_id": "e2c62412-2d33-4aa4-8964-4b4c0aa56dd3",
      "reactive": true
     },
     "output_type": "execute_result"
    }
   ],
   "source": [
    "demo_2()"
   ]
  }
 ],
 "metadata": {
  "kernelspec": {
   "display_name": "Julia 0.5.0",
   "language": "julia",
   "name": "julia-0.5"
  },
  "language_info": {
   "file_extension": ".jl",
   "mimetype": "application/julia",
   "name": "julia",
   "version": "0.5.1"
  },
  "widgets": {
   "state": {
    "0290c0ce-1240-425d-87b9-020b50a54479": {
     "views": [
      {
       "cell_index": 2
      }
     ]
    },
    "0be42364-4ffd-43e9-97a0-d12e7a858a0a": {
     "views": [
      {
       "cell_index": 2
      }
     ]
    },
    "0d382c25-2984-4e19-acff-3c58ea6a2180": {
     "views": [
      {
       "cell_index": 2
      }
     ]
    },
    "0d4a7e18-4e1d-4fe8-a668-33e8227be69c": {
     "views": [
      {
       "cell_index": 2
      }
     ]
    },
    "0ecf73bd-1a26-435e-8741-f8b8b995457e": {
     "views": [
      {
       "cell_index": 1
      }
     ]
    },
    "0f222b3a-3ab4-4e2e-b3bc-03b5393f8a99": {
     "views": [
      {
       "cell_index": 2
      }
     ]
    },
    "0f9b1e9c-c17e-4a08-841a-f916d38c382f": {
     "views": [
      {
       "cell_index": 2
      }
     ]
    },
    "120b7014-4209-481b-9be4-54e0065ce158": {
     "views": [
      {
       "cell_index": 2
      }
     ]
    },
    "1777fa76-4290-4b8d-81ff-ef7c74ceef15": {
     "views": [
      {
       "cell_index": 2
      }
     ]
    },
    "18ac935f-671b-4aed-876f-104d4335cfaf": {
     "views": [
      {
       "cell_index": 2
      }
     ]
    },
    "1acfa66d-6907-47b2-b723-5468bcff1fcd": {
     "views": [
      {
       "cell_index": 2
      }
     ]
    },
    "1c7eb3ae-f9ea-4847-8bb2-df8d7769716e": {
     "views": [
      {
       "cell_index": 2
      }
     ]
    },
    "205c8a83-6567-4aa6-bf4d-b15687992520": {
     "views": [
      {
       "cell_index": 1
      }
     ]
    },
    "2f752ee4-5bb4-4daa-bf2a-748e8f05c2f3": {
     "views": [
      {
       "cell_index": 2
      }
     ]
    },
    "40afacd6-0ad1-45c3-8612-3e8aa0ff622a": {
     "views": [
      {
       "cell_index": 2
      }
     ]
    },
    "472414b2-1f1d-4114-bb48-215486b586e9": {
     "views": [
      {
       "cell_index": 1
      }
     ]
    },
    "493a8c0a-f9a4-46b0-b622-51e2f2a0bd30": {
     "views": [
      {
       "cell_index": 1
      }
     ]
    },
    "4aebe88c-616f-4e55-ae6e-496777386a12": {
     "views": [
      {
       "cell_index": 1
      }
     ]
    },
    "5b72fff3-01c5-46f1-91e2-c36f5e7ca55c": {
     "views": [
      {
       "cell_index": 2
      }
     ]
    },
    "61807b90-0b21-4b61-b9d5-a28a8d262311": {
     "views": [
      {
       "cell_index": 2
      }
     ]
    },
    "62b0312a-6283-45df-994c-53b767819802": {
     "views": [
      {
       "cell_index": 1
      }
     ]
    },
    "68fab7b9-c430-4ce4-9cda-9f4db6c8ba01": {
     "views": [
      {
       "cell_index": 1
      }
     ]
    },
    "6c3d6685-4d2f-49c2-813c-9e6a96a9deae": {
     "views": [
      {
       "cell_index": 2
      }
     ]
    },
    "6c451165-8f67-4af7-b852-6a210ad250b6": {
     "views": [
      {
       "cell_index": 2
      }
     ]
    },
    "6d672552-7218-4682-a114-b7c2e75d6694": {
     "views": [
      {
       "cell_index": 2
      }
     ]
    },
    "7524d39f-3a8e-4a0c-a768-90e25abb21e5": {
     "views": [
      {
       "cell_index": 1
      }
     ]
    },
    "7736f536-5cee-4aeb-b12e-9245c9a486b6": {
     "views": [
      {
       "cell_index": 2
      }
     ]
    },
    "7a3899e9-a0ab-454e-9ef0-944fc91996b8": {
     "views": [
      {
       "cell_index": 2
      }
     ]
    },
    "802bb21f-d1cf-4eb0-8f96-8cc4e4dc2b0a": {
     "views": [
      {
       "cell_index": 2
      }
     ]
    },
    "820d9e89-b5d3-4353-9959-689f3c05c2f9": {
     "views": [
      {
       "cell_index": 2
      }
     ]
    },
    "87473862-bc68-4d99-a1bd-81096f326977": {
     "views": [
      {
       "cell_index": 2
      }
     ]
    },
    "904e4368-e08e-41cc-8030-657612d99e2d": {
     "views": [
      {
       "cell_index": 2
      }
     ]
    },
    "98768f4d-8d6a-4a47-9975-a1cef22e29b7": {
     "views": [
      {
       "cell_index": 2
      }
     ]
    },
    "9dc3525e-88a1-452c-b095-fc7373176371": {
     "views": [
      {
       "cell_index": 2
      }
     ]
    },
    "a249747a-5d50-4ca5-8974-c30974ce470a": {
     "views": [
      {
       "cell_index": 1
      }
     ]
    },
    "a3c29096-fbe6-4e3c-b37f-807d291fdd11": {
     "views": [
      {
       "cell_index": 2
      }
     ]
    },
    "a68d3f6c-568a-4139-85c5-3e610873d70f": {
     "views": [
      {
       "cell_index": 2
      }
     ]
    },
    "a6a89052-ee4a-44b1-b305-b1506e3afb57": {
     "views": [
      {
       "cell_index": 2
      }
     ]
    },
    "b5f2b224-2458-47a6-a1cc-d556401be9a3": {
     "views": [
      {
       "cell_index": 2
      }
     ]
    },
    "c17d4420-7be1-476f-962f-c6da5c49eafa": {
     "views": [
      {
       "cell_index": 1
      }
     ]
    },
    "c5f36bd6-f8a4-4f31-ba81-7b1ace8d9907": {
     "views": [
      {
       "cell_index": 2
      }
     ]
    },
    "cf8bd907-d791-46e6-920a-24f3468a4b87": {
     "views": [
      {
       "cell_index": 2
      }
     ]
    },
    "cf8d90ad-c342-4656-89b5-9af8fcf6b16f": {
     "views": [
      {
       "cell_index": 2
      }
     ]
    },
    "dd7cac64-1f01-4fc3-a70e-596b750d2286": {
     "views": [
      {
       "cell_index": 2
      }
     ]
    },
    "e43d60d5-e399-4bea-8689-193888d90d0e": {
     "views": [
      {
       "cell_index": 2
      }
     ]
    },
    "e6070c37-d5fb-49da-8e26-3652ab33e7e6": {
     "views": [
      {
       "cell_index": 2
      }
     ]
    },
    "f4e7b05b-5416-41a6-aab7-4a911f91abe9": {
     "views": [
      {
       "cell_index": 2
      }
     ]
    },
    "f9a005b5-d345-4059-91d2-c324c611e06d": {
     "views": [
      {
       "cell_index": 2
      }
     ]
    },
    "fa8275ac-7ffd-47cf-8b7b-9c648f6f80d2": {
     "views": [
      {
       "cell_index": 2
      }
     ]
    },
    "ff18729b-3876-4024-9465-51bccd6b9b47": {
     "views": [
      {
       "cell_index": 2
      }
     ]
    }
   },
   "version": "1.2.0"
  }
 },
 "nbformat": 4,
 "nbformat_minor": 2
}
