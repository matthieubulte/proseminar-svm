{
 "cells": [
  {
   "cell_type": "code",
   "execution_count": 1,
   "metadata": {
    "collapsed": false
   },
   "outputs": [
    {
     "data": {
      "text/html": [
       "<div id=\"interact-js-shim\">\n",
       "    <script charset=\"utf-8\">\n",
       "(function (IPython, $, _, MathJax) {\n",
       "    $.event.special.destroyed = {\n",
       "\tremove: function(o) {\n",
       "\t    if (o.handler) {\n",
       "\t\to.handler.apply(this, arguments)\n",
       "\t    }\n",
       "\t}\n",
       "    }\n",
       "\n",
       "    var OutputArea = IPython.version >= \"4.0.0\" ? require(\"notebook/js/outputarea\").OutputArea : IPython.OutputArea;\n",
       "\n",
       "    var redrawValue = function (container, type, val) {\n",
       "\tvar selector = $(\"<div/>\");\n",
       "\tvar oa = new OutputArea(_.extend(selector, {\n",
       "\t    selector: selector,\n",
       "\t    prompt_area: true,\n",
       "\t    events: IPython.events,\n",
       "\t    keyboard_manager: IPython.keyboard_manager\n",
       "\t})); // Hack to work with IPython 2.1.0\n",
       "\n",
       "\tswitch (type) {\n",
       "\tcase \"image/png\":\n",
       "            var _src = 'data:' + type + ';base64,' + val;\n",
       "\t    $(container).find(\"img\").attr('src', _src);\n",
       "\t    break;\n",
       "\tcase \"text/latex\":\n",
       "\t\tif (MathJax){\n",
       "\t\t\tvar math = MathJax.Hub.getAllJax(container)[0];\n",
       "\t\t\tMathJax.Hub.Queue([\"Text\", math, val.replace(/^\\${1,2}|\\${1,2}$/g, '')]);\n",
       "\t\t\tbreak;\n",
       "\t\t}\n",
       "\tdefault:\n",
       "\t    var toinsert = OutputArea.append_map[type].apply(\n",
       "\t\toa, [val, {}, selector]\n",
       "\t    );\n",
       "\t    $(container).empty().append(toinsert.contents());\n",
       "\t    selector.remove();\n",
       "\t}\n",
       "    }\n",
       "\n",
       "\n",
       "    $(document).ready(function() {\n",
       "\tfunction initComm(evt, data) {\n",
       "\t    var comm_manager = data.kernel.comm_manager;\n",
       "        //_.extend(comm_manager.targets, require(\"widgets/js/widget\"))\n",
       "\t    comm_manager.register_target(\"Signal\", function (comm) {\n",
       "            comm.on_msg(function (msg) {\n",
       "                var val = msg.content.data.value;\n",
       "                $(\".signal-\" + comm.comm_id).each(function() {\n",
       "                var type = $(this).data(\"type\");\n",
       "                if (typeof(val[type]) !== \"undefined\" && val[type] !== null) {\n",
       "                    redrawValue(this, type, val[type], type);\n",
       "                }\n",
       "                });\n",
       "                delete val;\n",
       "                delete msg.content.data.value;\n",
       "            });\n",
       "\t    });\n",
       "\n",
       "\t    // coordingate with Comm and redraw Signals\n",
       "\t    // XXX: Test using Reactive here to improve performance\n",
       "\t    $([IPython.events]).on(\n",
       "\t\t'output_appended.OutputArea', function (event, type, value, md, toinsert) {\n",
       "\t\t    if (md && md.reactive) {\n",
       "                // console.log(md.comm_id);\n",
       "                toinsert.addClass(\"signal-\" + md.comm_id);\n",
       "                toinsert.data(\"type\", type);\n",
       "                // Signal back indicating the mimetype required\n",
       "                var comm_manager = IPython.notebook.kernel.comm_manager;\n",
       "                var comm = comm_manager.comms[md.comm_id];\n",
       "                comm.then(function (c) {\n",
       "                    c.send({action: \"subscribe_mime\",\n",
       "                       mime: type});\n",
       "                    toinsert.bind(\"destroyed\", function() {\n",
       "                        c.send({action: \"unsubscribe_mime\",\n",
       "                               mime: type});\n",
       "                    });\n",
       "                })\n",
       "\t\t    }\n",
       "\t    });\n",
       "\t}\n",
       "\n",
       "\ttry {\n",
       "\t    // try to initialize right away. otherwise, wait on the status_started event.\n",
       "\t    initComm(undefined, IPython.notebook);\n",
       "\t} catch (e) {\n",
       "\t    $([IPython.events]).on('kernel_created.Kernel kernel_created.Session', initComm);\n",
       "\t}\n",
       "    });\n",
       "})(IPython, jQuery, _, MathJax);\n",
       "</script>\n",
       "    <script>\n",
       "        window.interactLoadedFlag = true\n",
       "       $(\"#interact-js-shim\").bind(\"destroyed\", function () {\n",
       "           if (window.interactLoadedFlag) {\n",
       "               console.warn(\"JavaScript required by Interact will be removed if you remove this cell or run using Interact more than once.\")\n",
       "           }\n",
       "       })\n",
       "       $([IPython.events]).on(\"kernel_starting.Kernel kernel_restarting.Kernel\", function () { window.interactLoadedFlag = false })\n",
       "   </script>\n",
       "</div>"
      ]
     },
     "metadata": {},
     "output_type": "display_data"
    }
   ],
   "source": [
    "using PyPlot\n",
    "using Interact\n",
    "using Distributions\n",
    "\n",
    "pygui(true)\n",
    "ion()\n",
    "fig = figure();"
   ]
  },
  {
   "cell_type": "code",
   "execution_count": 2,
   "metadata": {
    "collapsed": false
   },
   "outputs": [
    {
     "data": {
      "text/plain": [
       "two_cocentric (generic function with 1 method)"
      ]
     },
     "execution_count": 2,
     "metadata": {},
     "output_type": "execute_result"
    }
   ],
   "source": [
    "function cloud!(x, res, start, n, d)\n",
    "    dim = size(x, 2)\n",
    "    for i=1:n\n",
    "        res[start+i, 1] = x[1] + rand(d)\n",
    "        res[start+i, 2] = x[2] + rand(d)\n",
    "    end\n",
    "end\n",
    "\n",
    "function circle!(x, r, res, start, n, d)\n",
    "    dim = size(x, 2)\n",
    "    for i=1:n\n",
    "        angle = rand() * 2 * pi\n",
    "        res[start+i, 1] = x[1] + cos(angle) * r + rand(d)\n",
    "        res[start+i, 2] = x[2] + sin(angle) * r + rand(d)\n",
    "    end    \n",
    "end\n",
    "\n",
    "function lin_sep_two_clouds()\n",
    "    x = zeros(100, 2)\n",
    "    cloud!([0 0], x,  0, 50, Normal(0, 0.2))\n",
    "    cloud!([1 1], x, 50, 50, Normal(0, 0.2))\n",
    "\n",
    "    y = repeat([1; -1], inner=50)\n",
    "    x, y    \n",
    "end\n",
    "\n",
    "function two_cocentric()\n",
    "    x = zeros(150, 2)\n",
    "    cloud!( [0 0],      x,  0,  50, Normal(0, 0.1))\n",
    "    circle!([0 0], 1.5, x, 50, 100, Normal(0, 0.1))\n",
    "\n",
    "    y = repeat([1; -1; -1], inner=50)\n",
    "    x, y\n",
    "end"
   ]
  },
  {
   "cell_type": "code",
   "execution_count": 4,
   "metadata": {
    "collapsed": false
   },
   "outputs": [
    {
     "data": {
      "text/plain": [
       "transform (generic function with 1 method)"
      ]
     },
     "execution_count": 4,
     "metadata": {},
     "output_type": "execute_result"
    }
   ],
   "source": [
    "function transform_grid!(f, xgrid, ygrid, zgrid)\n",
    "    N = size(xgrid,1)\n",
    "\n",
    "    for i in 1:N\n",
    "        for j in 1:N\n",
    "            y = f([xgrid[i, j], ygrid[i, j], 1])\n",
    "                \n",
    "            xgrid[i:i,j:j] = y[1]\n",
    "            ygrid[i:i,j:j] = y[2]\n",
    "            zgrid[i:i,j:j] = y[3]\n",
    "        end\n",
    "    end\n",
    "end\n",
    "\n",
    "function transform(f, X)\n",
    "    N = size(X, 1)\n",
    "    \n",
    "    xd = zeros(N)\n",
    "    yd = zeros(N)\n",
    "    zd = zeros(N)\n",
    "    \n",
    "    for i in 1:N\n",
    "        y = f([X[i, 1], X[i, 2], 1])\n",
    "        \n",
    "        xd[i] = y[1]\n",
    "        yd[i] = y[2]\n",
    "        zd[i] = y[3]\n",
    "    end\n",
    "    \n",
    "    xd,yd,zd\n",
    "end"
   ]
  },
  {
   "cell_type": "code",
   "execution_count": 33,
   "metadata": {
    "collapsed": false
   },
   "outputs": [
    {
     "data": {
      "text/html": [],
      "text/plain": [
       "Interact.Options{:SelectionSlider,Float64}(Signal{Float64}(2.2689280275926285, nactions=1),\"α\",2.2689280275926285,\"2.2689280275926285\",Interact.OptionDict(DataStructures.OrderedDict(\"1.5707963267948966\"=>1.5708,\"1.7453292519943295\"=>1.74533,\"1.9198621771937623\"=>1.91986,\"2.0943951023931953\"=>2.0944,\"2.2689280275926285\"=>2.26893,\"2.443460952792061\"=>2.44346,\"2.617993877991494\"=>2.61799,\"2.792526803190927\"=>2.79253,\"2.9670597283903604\"=>2.96706,\"3.141592653589793\"=>3.14159…),Dict(1.5708=>\"1.5707963267948966\",1.74533=>\"1.7453292519943295\",1.91986=>\"1.9198621771937623\",2.26893=>\"2.2689280275926285\",2.96706=>\"2.9670597283903604\",2.79253=>\"2.792526803190927\",2.44346=>\"2.443460952792061\",2.61799=>\"2.617993877991494\",3.14159=>\"3.141592653589793\",2.0944=>\"2.0943951023931953\"…)),Any[],Any[],true,\"horizontal\")"
      ]
     },
     "metadata": {},
     "output_type": "display_data"
    }
   ],
   "source": [
    "X, y = lin_sep_two_clouds();\n",
    "\n",
    "@manipulate for α=linspace(pi/2, pi, 10)\n",
    "    withfig(fig) do\n",
    "        xlim(-.5,1.5)\n",
    "        ylim(-.5,1.5)\n",
    "        axis(\"off\")\n",
    "        plot(.5 + 10*[cos(α), cos(α+pi)], .5 + 10*[sin(α), sin(α+pi)],color=\"black\",linestyle=\"dashed\",linewidth=0.7)\n",
    "        \n",
    "        scatter(X[:,1][y.==1], X[:,2][y.==1], marker=\"x\", c=\"black\")\n",
    "        scatter(X[:,1][y.==-1], X[:,2][y.==-1], marker=\"o\", edgecolor=\"black\", facecolor=(0,0,0,0))\n",
    "        \n",
    "        scatter(X[:,1][s], X[:,2][s], s=10000, edgecolor=\"black\", facecolor=(0,0,0,0))\n",
    "    end\n",
    "end;"
   ]
  },
  {
   "cell_type": "code",
   "execution_count": 19,
   "metadata": {
    "collapsed": false
   },
   "outputs": [
    {
     "data": {
      "text/html": [],
      "text/plain": [
       "Interact.Slider{Int64}(Signal{Int64}(1, nactions=1),\"\",1,1:20,\"horizontal\",true,\"d\",true)"
      ]
     },
     "metadata": {},
     "output_type": "display_data"
    },
    {
     "data": {
      "text/html": [],
      "text/plain": [
       "Interact.Options{:ToggleButtons,Int64}(Signal{Int64}(0, nactions=1),\"showing\",0,\"none\",Interact.OptionDict(DataStructures.OrderedDict(\"none\"=>0,\"space_boundary\"=>1,\"both\"=>2,\"intersection\"=>3),Dict(0=>\"none\",2=>\"both\",3=>\"intersection\",1=>\"space_boundary\")),Any[],Any[],true,\"horizontal\")"
      ]
     },
     "metadata": {},
     "output_type": "display_data"
    }
   ],
   "source": [
    "N = 20\n",
    "xrange, yrange = linspace(-2, 2, N), linspace(-2, 2, N)\n",
    "\n",
    "f = (x) -> [x[1]^2, x[2]^2, sqrt(2)x[1]x[2]]\n",
    "X, y = two_cocentric();\n",
    "\n",
    "@manipulate for step=slider(1:20, value=1),\n",
    "                showing=[:none => 0,\n",
    "                         :space_boundary => 1,\n",
    "                         :both => 2,\n",
    "                         :intersection => 3\n",
    "                        ]\n",
    "    \n",
    "    λ = linspace(0, 1, 20)[step]\n",
    "    g = (x) -> (1 - λ) * x + λ * f(x)\n",
    "\n",
    "    xgrid = repmat(xrange', N, 1)\n",
    "    ygrid = repmat(yrange, 1, N)\n",
    "    zgrid = zeros(N,N)\n",
    "\n",
    "    xsep = repmat(xrange', N, 1) + .5\n",
    "    ysep = -repmat(xrange', N, 1) + .5\n",
    "    zsep = 2*repmat(yrange, 1, N)\n",
    "    \n",
    "    angles = repmat(linspace(-pi, pi, 20), 20, 2)\n",
    "    xb,yb,zb = transform((x) -> g([cos(x[1]), sin(x[1]), 1]), angles)\n",
    "    \n",
    "    transform_grid!(g, xgrid, ygrid, zgrid)\n",
    "\n",
    "    xd, yd, zd = transform(g, X)\n",
    "    \n",
    "    withfig(fig, clear=false) do\n",
    "        cla()\n",
    "        \n",
    "        plt[:gca](projection=\"3d\")[:_axis3don] = false\n",
    "        mesh(xgrid, ygrid, zgrid, color=\"black\", linestyles=\"dashed\", linewidths=0.3)\n",
    "        \n",
    "        if showing == 1\n",
    "            mesh(xsep, ysep, zsep, color=\"red\", linestyles=\"dashed\", linewidths=0.3)\n",
    "        elseif showing == 2\n",
    "            mesh(xsep, ysep, zsep, color=\"red\", linestyles=\"dashed\", linewidths=0.3)\n",
    "            mesh(xb, yb, zb, color=\"red\", linestyles=\"dashed\", linewidths=0.3)\n",
    "        elseif showing == 3\n",
    "            mesh(xb, yb, zb, color=\"red\", linestyles=\"dashed\", linewidths=0.3)\n",
    "        end\n",
    "        \n",
    "        scatter3D(xd[y.==1], yd[y.==1], zd[y.==1], marker=\".\")\n",
    "        scatter3D(xd[y.==-1], yd[y.==-1], zd[y.==-1], marker=\"x\")\n",
    "    end\n",
    "end;"
   ]
  }
 ],
 "metadata": {
  "kernelspec": {
   "display_name": "Julia 0.5.0",
   "language": "julia",
   "name": "julia-0.5"
  },
  "language_info": {
   "file_extension": ".jl",
   "mimetype": "application/julia",
   "name": "julia",
   "version": "0.5.1"
  },
  "widgets": {
   "state": {
    "24ff98a0-8a18-4735-9b0d-3faf101e2b5b": {
     "views": [
      {
       "cell_index": 4
      }
     ]
    },
    "28133afc-530a-4204-8e54-36c57461d35b": {
     "views": [
      {
       "cell_index": 4
      }
     ]
    },
    "3275f39a-5bae-4cc9-8edf-3189e7a35031": {
     "views": [
      {
       "cell_index": 4
      }
     ]
    },
    "46760391-f304-4b38-9b94-7c3ae6c7538e": {
     "views": [
      {
       "cell_index": 4
      }
     ]
    },
    "493683e6-11e9-4462-92c6-f2e86b92089c": {
     "views": [
      {
       "cell_index": 4
      }
     ]
    },
    "59fe5520-dac5-4e3a-9bc1-ee9a5e0f4cee": {
     "views": [
      {
       "cell_index": 4
      }
     ]
    },
    "5f9b8889-4f43-4511-bdbb-f12817b7fc7b": {
     "views": [
      {
       "cell_index": 4
      }
     ]
    },
    "6acf0e35-7f3f-465c-98d4-e03e9feb0a3d": {
     "views": [
      {
       "cell_index": 4
      }
     ]
    },
    "7159e4c8-5397-47a0-bc6c-6b6305320c91": {
     "views": [
      {
       "cell_index": 4
      }
     ]
    },
    "99de9b0e-67b6-4b51-b37e-99304dffed6b": {
     "views": [
      {
       "cell_index": 4
      }
     ]
    },
    "a8507271-ceb5-4e03-96bd-c3e9a6503bb5": {
     "views": [
      {
       "cell_index": 4
      }
     ]
    },
    "b77b5e2b-94c2-4da4-9f11-8c94482c41cb": {
     "views": [
      {
       "cell_index": 4
      }
     ]
    },
    "d08b98b9-d1d1-4e68-92b1-89710a8b96c4": {
     "views": [
      {
       "cell_index": 4
      }
     ]
    }
   },
   "version": "1.2.0"
  }
 },
 "nbformat": 4,
 "nbformat_minor": 2
}
