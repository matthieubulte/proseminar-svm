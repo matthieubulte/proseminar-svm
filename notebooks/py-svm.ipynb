{
 "cells": [
  {
   "cell_type": "code",
   "execution_count": 1,
   "metadata": {
    "collapsed": false
   },
   "outputs": [],
   "source": [
    "%matplotlib inline\n",
    "\n",
    "import logging\n",
    "\n",
    "from sklearn.model_selection import train_test_split\n",
    "from sklearn.model_selection import GridSearchCV\n",
    "from sklearn import datasets\n",
    "from sklearn.metrics import classification_report\n",
    "from sklearn.metrics import confusion_matrix\n",
    "\n",
    "import numpy as np\n",
    "import matplotlib.pyplot as plt\n",
    "\n",
    "logging.basicConfig(level=logging.INFO, format='%(asctime)s %(message)s')"
   ]
  },
  {
   "cell_type": "code",
   "execution_count": 2,
   "metadata": {
    "collapsed": false
   },
   "outputs": [],
   "source": [
    "digits = datasets.load_digits()\n",
    "\n",
    "X_train, X_test, y_train, y_test = train_test_split(\n",
    "    (digits.data[:-1] - digits.data[:-1].mean()) / 16.0,\n",
    "    digits.target[:-1],\n",
    "    test_size=0.2,\n",
    "    random_state=42\n",
    ")"
   ]
  },
  {
   "cell_type": "code",
   "execution_count": 3,
   "metadata": {
    "collapsed": false
   },
   "outputs": [
    {
     "ename": "KeyboardInterrupt",
     "evalue": "",
     "output_type": "error",
     "traceback": [
      "\u001b[0;31m---------------------------------------------------------------------------\u001b[0m",
      "\u001b[0;31mKeyboardInterrupt\u001b[0m                         Traceback (most recent call last)",
      "\u001b[0;32m<ipython-input-3-97b90f1d3655>\u001b[0m in \u001b[0;36m<module>\u001b[0;34m()\u001b[0m\n\u001b[1;32m      4\u001b[0m               'gamma': np.linspace(1e-3, 1e-2, 10) }\n\u001b[1;32m      5\u001b[0m \u001b[0mclf\u001b[0m \u001b[0;34m=\u001b[0m \u001b[0mGridSearchCV\u001b[0m\u001b[0;34m(\u001b[0m\u001b[0msvm\u001b[0m\u001b[0;34m.\u001b[0m\u001b[0mSVC\u001b[0m\u001b[0;34m(\u001b[0m\u001b[0mkernel\u001b[0m\u001b[0;34m=\u001b[0m\u001b[0;34m'rbf'\u001b[0m\u001b[0;34m,\u001b[0m \u001b[0mclass_weight\u001b[0m\u001b[0;34m=\u001b[0m\u001b[0;34m'balanced'\u001b[0m\u001b[0;34m)\u001b[0m\u001b[0;34m,\u001b[0m \u001b[0mparam_grid\u001b[0m\u001b[0;34m)\u001b[0m\u001b[0;34m\u001b[0m\u001b[0m\n\u001b[0;32m----> 6\u001b[0;31m \u001b[0mclf\u001b[0m \u001b[0;34m=\u001b[0m \u001b[0mclf\u001b[0m\u001b[0;34m.\u001b[0m\u001b[0mfit\u001b[0m\u001b[0;34m(\u001b[0m\u001b[0mX_train\u001b[0m\u001b[0;34m,\u001b[0m \u001b[0my_train\u001b[0m\u001b[0;34m)\u001b[0m\u001b[0;34m\u001b[0m\u001b[0m\n\u001b[0m\u001b[1;32m      7\u001b[0m \u001b[0;34m\u001b[0m\u001b[0m\n\u001b[1;32m      8\u001b[0m \u001b[0my_pred\u001b[0m \u001b[0;34m=\u001b[0m \u001b[0mclf\u001b[0m\u001b[0;34m.\u001b[0m\u001b[0mpredict\u001b[0m\u001b[0;34m(\u001b[0m\u001b[0mX_test\u001b[0m\u001b[0;34m)\u001b[0m\u001b[0;34m\u001b[0m\u001b[0m\n",
      "\u001b[0;32m/home/mbulte/anaconda2/lib/python2.7/site-packages/sklearn/model_selection/_search.pyc\u001b[0m in \u001b[0;36mfit\u001b[0;34m(self, X, y, groups)\u001b[0m\n\u001b[1;32m    943\u001b[0m             \u001b[0mtrain\u001b[0m\u001b[0;34m/\u001b[0m\u001b[0mtest\u001b[0m \u001b[0mset\u001b[0m\u001b[0;34m.\u001b[0m\u001b[0;34m\u001b[0m\u001b[0m\n\u001b[1;32m    944\u001b[0m         \"\"\"\n\u001b[0;32m--> 945\u001b[0;31m         \u001b[0;32mreturn\u001b[0m \u001b[0mself\u001b[0m\u001b[0;34m.\u001b[0m\u001b[0m_fit\u001b[0m\u001b[0;34m(\u001b[0m\u001b[0mX\u001b[0m\u001b[0;34m,\u001b[0m \u001b[0my\u001b[0m\u001b[0;34m,\u001b[0m \u001b[0mgroups\u001b[0m\u001b[0;34m,\u001b[0m \u001b[0mParameterGrid\u001b[0m\u001b[0;34m(\u001b[0m\u001b[0mself\u001b[0m\u001b[0;34m.\u001b[0m\u001b[0mparam_grid\u001b[0m\u001b[0;34m)\u001b[0m\u001b[0;34m)\u001b[0m\u001b[0;34m\u001b[0m\u001b[0m\n\u001b[0m\u001b[1;32m    946\u001b[0m \u001b[0;34m\u001b[0m\u001b[0m\n\u001b[1;32m    947\u001b[0m \u001b[0;34m\u001b[0m\u001b[0m\n",
      "\u001b[0;32m/home/mbulte/anaconda2/lib/python2.7/site-packages/sklearn/model_selection/_search.pyc\u001b[0m in \u001b[0;36m_fit\u001b[0;34m(self, X, y, groups, parameter_iterable)\u001b[0m\n\u001b[1;32m    562\u001b[0m                                   \u001b[0mreturn_times\u001b[0m\u001b[0;34m=\u001b[0m\u001b[0mTrue\u001b[0m\u001b[0;34m,\u001b[0m \u001b[0mreturn_parameters\u001b[0m\u001b[0;34m=\u001b[0m\u001b[0mTrue\u001b[0m\u001b[0;34m,\u001b[0m\u001b[0;34m\u001b[0m\u001b[0m\n\u001b[1;32m    563\u001b[0m                                   error_score=self.error_score)\n\u001b[0;32m--> 564\u001b[0;31m           \u001b[0;32mfor\u001b[0m \u001b[0mparameters\u001b[0m \u001b[0;32min\u001b[0m \u001b[0mparameter_iterable\u001b[0m\u001b[0;34m\u001b[0m\u001b[0m\n\u001b[0m\u001b[1;32m    565\u001b[0m           for train, test in cv_iter)\n\u001b[1;32m    566\u001b[0m \u001b[0;34m\u001b[0m\u001b[0m\n",
      "\u001b[0;32m/home/mbulte/anaconda2/lib/python2.7/site-packages/sklearn/externals/joblib/parallel.pyc\u001b[0m in \u001b[0;36m__call__\u001b[0;34m(self, iterable)\u001b[0m\n\u001b[1;32m    756\u001b[0m             \u001b[0;31m# was dispatched. In particular this covers the edge\u001b[0m\u001b[0;34m\u001b[0m\u001b[0;34m\u001b[0m\u001b[0m\n\u001b[1;32m    757\u001b[0m             \u001b[0;31m# case of Parallel used with an exhausted iterator.\u001b[0m\u001b[0;34m\u001b[0m\u001b[0;34m\u001b[0m\u001b[0m\n\u001b[0;32m--> 758\u001b[0;31m             \u001b[0;32mwhile\u001b[0m \u001b[0mself\u001b[0m\u001b[0;34m.\u001b[0m\u001b[0mdispatch_one_batch\u001b[0m\u001b[0;34m(\u001b[0m\u001b[0miterator\u001b[0m\u001b[0;34m)\u001b[0m\u001b[0;34m:\u001b[0m\u001b[0;34m\u001b[0m\u001b[0m\n\u001b[0m\u001b[1;32m    759\u001b[0m                 \u001b[0mself\u001b[0m\u001b[0;34m.\u001b[0m\u001b[0m_iterating\u001b[0m \u001b[0;34m=\u001b[0m \u001b[0mTrue\u001b[0m\u001b[0;34m\u001b[0m\u001b[0m\n\u001b[1;32m    760\u001b[0m             \u001b[0;32melse\u001b[0m\u001b[0;34m:\u001b[0m\u001b[0;34m\u001b[0m\u001b[0m\n",
      "\u001b[0;32m/home/mbulte/anaconda2/lib/python2.7/site-packages/sklearn/externals/joblib/parallel.pyc\u001b[0m in \u001b[0;36mdispatch_one_batch\u001b[0;34m(self, iterator)\u001b[0m\n\u001b[1;32m    606\u001b[0m                 \u001b[0;32mreturn\u001b[0m \u001b[0mFalse\u001b[0m\u001b[0;34m\u001b[0m\u001b[0m\n\u001b[1;32m    607\u001b[0m             \u001b[0;32melse\u001b[0m\u001b[0;34m:\u001b[0m\u001b[0;34m\u001b[0m\u001b[0m\n\u001b[0;32m--> 608\u001b[0;31m                 \u001b[0mself\u001b[0m\u001b[0;34m.\u001b[0m\u001b[0m_dispatch\u001b[0m\u001b[0;34m(\u001b[0m\u001b[0mtasks\u001b[0m\u001b[0;34m)\u001b[0m\u001b[0;34m\u001b[0m\u001b[0m\n\u001b[0m\u001b[1;32m    609\u001b[0m                 \u001b[0;32mreturn\u001b[0m \u001b[0mTrue\u001b[0m\u001b[0;34m\u001b[0m\u001b[0m\n\u001b[1;32m    610\u001b[0m \u001b[0;34m\u001b[0m\u001b[0m\n",
      "\u001b[0;32m/home/mbulte/anaconda2/lib/python2.7/site-packages/sklearn/externals/joblib/parallel.pyc\u001b[0m in \u001b[0;36m_dispatch\u001b[0;34m(self, batch)\u001b[0m\n\u001b[1;32m    569\u001b[0m         \u001b[0mdispatch_timestamp\u001b[0m \u001b[0;34m=\u001b[0m \u001b[0mtime\u001b[0m\u001b[0;34m.\u001b[0m\u001b[0mtime\u001b[0m\u001b[0;34m(\u001b[0m\u001b[0;34m)\u001b[0m\u001b[0;34m\u001b[0m\u001b[0m\n\u001b[1;32m    570\u001b[0m         \u001b[0mcb\u001b[0m \u001b[0;34m=\u001b[0m \u001b[0mBatchCompletionCallBack\u001b[0m\u001b[0;34m(\u001b[0m\u001b[0mdispatch_timestamp\u001b[0m\u001b[0;34m,\u001b[0m \u001b[0mlen\u001b[0m\u001b[0;34m(\u001b[0m\u001b[0mbatch\u001b[0m\u001b[0;34m)\u001b[0m\u001b[0;34m,\u001b[0m \u001b[0mself\u001b[0m\u001b[0;34m)\u001b[0m\u001b[0;34m\u001b[0m\u001b[0m\n\u001b[0;32m--> 571\u001b[0;31m         \u001b[0mjob\u001b[0m \u001b[0;34m=\u001b[0m \u001b[0mself\u001b[0m\u001b[0;34m.\u001b[0m\u001b[0m_backend\u001b[0m\u001b[0;34m.\u001b[0m\u001b[0mapply_async\u001b[0m\u001b[0;34m(\u001b[0m\u001b[0mbatch\u001b[0m\u001b[0;34m,\u001b[0m \u001b[0mcallback\u001b[0m\u001b[0;34m=\u001b[0m\u001b[0mcb\u001b[0m\u001b[0;34m)\u001b[0m\u001b[0;34m\u001b[0m\u001b[0m\n\u001b[0m\u001b[1;32m    572\u001b[0m         \u001b[0mself\u001b[0m\u001b[0;34m.\u001b[0m\u001b[0m_jobs\u001b[0m\u001b[0;34m.\u001b[0m\u001b[0mappend\u001b[0m\u001b[0;34m(\u001b[0m\u001b[0mjob\u001b[0m\u001b[0;34m)\u001b[0m\u001b[0;34m\u001b[0m\u001b[0m\n\u001b[1;32m    573\u001b[0m \u001b[0;34m\u001b[0m\u001b[0m\n",
      "\u001b[0;32m/home/mbulte/anaconda2/lib/python2.7/site-packages/sklearn/externals/joblib/_parallel_backends.pyc\u001b[0m in \u001b[0;36mapply_async\u001b[0;34m(self, func, callback)\u001b[0m\n\u001b[1;32m    107\u001b[0m     \u001b[0;32mdef\u001b[0m \u001b[0mapply_async\u001b[0m\u001b[0;34m(\u001b[0m\u001b[0mself\u001b[0m\u001b[0;34m,\u001b[0m \u001b[0mfunc\u001b[0m\u001b[0;34m,\u001b[0m \u001b[0mcallback\u001b[0m\u001b[0;34m=\u001b[0m\u001b[0mNone\u001b[0m\u001b[0;34m)\u001b[0m\u001b[0;34m:\u001b[0m\u001b[0;34m\u001b[0m\u001b[0m\n\u001b[1;32m    108\u001b[0m         \u001b[0;34m\"\"\"Schedule a func to be run\"\"\"\u001b[0m\u001b[0;34m\u001b[0m\u001b[0m\n\u001b[0;32m--> 109\u001b[0;31m         \u001b[0mresult\u001b[0m \u001b[0;34m=\u001b[0m \u001b[0mImmediateResult\u001b[0m\u001b[0;34m(\u001b[0m\u001b[0mfunc\u001b[0m\u001b[0;34m)\u001b[0m\u001b[0;34m\u001b[0m\u001b[0m\n\u001b[0m\u001b[1;32m    110\u001b[0m         \u001b[0;32mif\u001b[0m \u001b[0mcallback\u001b[0m\u001b[0;34m:\u001b[0m\u001b[0;34m\u001b[0m\u001b[0m\n\u001b[1;32m    111\u001b[0m             \u001b[0mcallback\u001b[0m\u001b[0;34m(\u001b[0m\u001b[0mresult\u001b[0m\u001b[0;34m)\u001b[0m\u001b[0;34m\u001b[0m\u001b[0m\n",
      "\u001b[0;32m/home/mbulte/anaconda2/lib/python2.7/site-packages/sklearn/externals/joblib/_parallel_backends.pyc\u001b[0m in \u001b[0;36m__init__\u001b[0;34m(self, batch)\u001b[0m\n\u001b[1;32m    324\u001b[0m         \u001b[0;31m# Don't delay the application, to avoid keeping the input\u001b[0m\u001b[0;34m\u001b[0m\u001b[0;34m\u001b[0m\u001b[0m\n\u001b[1;32m    325\u001b[0m         \u001b[0;31m# arguments in memory\u001b[0m\u001b[0;34m\u001b[0m\u001b[0;34m\u001b[0m\u001b[0m\n\u001b[0;32m--> 326\u001b[0;31m         \u001b[0mself\u001b[0m\u001b[0;34m.\u001b[0m\u001b[0mresults\u001b[0m \u001b[0;34m=\u001b[0m \u001b[0mbatch\u001b[0m\u001b[0;34m(\u001b[0m\u001b[0;34m)\u001b[0m\u001b[0;34m\u001b[0m\u001b[0m\n\u001b[0m\u001b[1;32m    327\u001b[0m \u001b[0;34m\u001b[0m\u001b[0m\n\u001b[1;32m    328\u001b[0m     \u001b[0;32mdef\u001b[0m \u001b[0mget\u001b[0m\u001b[0;34m(\u001b[0m\u001b[0mself\u001b[0m\u001b[0;34m)\u001b[0m\u001b[0;34m:\u001b[0m\u001b[0;34m\u001b[0m\u001b[0m\n",
      "\u001b[0;32m/home/mbulte/anaconda2/lib/python2.7/site-packages/sklearn/externals/joblib/parallel.pyc\u001b[0m in \u001b[0;36m__call__\u001b[0;34m(self)\u001b[0m\n\u001b[1;32m    129\u001b[0m \u001b[0;34m\u001b[0m\u001b[0m\n\u001b[1;32m    130\u001b[0m     \u001b[0;32mdef\u001b[0m \u001b[0m__call__\u001b[0m\u001b[0;34m(\u001b[0m\u001b[0mself\u001b[0m\u001b[0;34m)\u001b[0m\u001b[0;34m:\u001b[0m\u001b[0;34m\u001b[0m\u001b[0m\n\u001b[0;32m--> 131\u001b[0;31m         \u001b[0;32mreturn\u001b[0m \u001b[0;34m[\u001b[0m\u001b[0mfunc\u001b[0m\u001b[0;34m(\u001b[0m\u001b[0;34m*\u001b[0m\u001b[0margs\u001b[0m\u001b[0;34m,\u001b[0m \u001b[0;34m**\u001b[0m\u001b[0mkwargs\u001b[0m\u001b[0;34m)\u001b[0m \u001b[0;32mfor\u001b[0m \u001b[0mfunc\u001b[0m\u001b[0;34m,\u001b[0m \u001b[0margs\u001b[0m\u001b[0;34m,\u001b[0m \u001b[0mkwargs\u001b[0m \u001b[0;32min\u001b[0m \u001b[0mself\u001b[0m\u001b[0;34m.\u001b[0m\u001b[0mitems\u001b[0m\u001b[0;34m]\u001b[0m\u001b[0;34m\u001b[0m\u001b[0m\n\u001b[0m\u001b[1;32m    132\u001b[0m \u001b[0;34m\u001b[0m\u001b[0m\n\u001b[1;32m    133\u001b[0m     \u001b[0;32mdef\u001b[0m \u001b[0m__len__\u001b[0m\u001b[0;34m(\u001b[0m\u001b[0mself\u001b[0m\u001b[0;34m)\u001b[0m\u001b[0;34m:\u001b[0m\u001b[0;34m\u001b[0m\u001b[0m\n",
      "\u001b[0;32m/home/mbulte/anaconda2/lib/python2.7/site-packages/sklearn/model_selection/_validation.pyc\u001b[0m in \u001b[0;36m_fit_and_score\u001b[0;34m(estimator, X, y, scorer, train, test, verbose, parameters, fit_params, return_train_score, return_parameters, return_n_test_samples, return_times, error_score)\u001b[0m\n\u001b[1;32m    236\u001b[0m             \u001b[0mestimator\u001b[0m\u001b[0;34m.\u001b[0m\u001b[0mfit\u001b[0m\u001b[0;34m(\u001b[0m\u001b[0mX_train\u001b[0m\u001b[0;34m,\u001b[0m \u001b[0;34m**\u001b[0m\u001b[0mfit_params\u001b[0m\u001b[0;34m)\u001b[0m\u001b[0;34m\u001b[0m\u001b[0m\n\u001b[1;32m    237\u001b[0m         \u001b[0;32melse\u001b[0m\u001b[0;34m:\u001b[0m\u001b[0;34m\u001b[0m\u001b[0m\n\u001b[0;32m--> 238\u001b[0;31m             \u001b[0mestimator\u001b[0m\u001b[0;34m.\u001b[0m\u001b[0mfit\u001b[0m\u001b[0;34m(\u001b[0m\u001b[0mX_train\u001b[0m\u001b[0;34m,\u001b[0m \u001b[0my_train\u001b[0m\u001b[0;34m,\u001b[0m \u001b[0;34m**\u001b[0m\u001b[0mfit_params\u001b[0m\u001b[0;34m)\u001b[0m\u001b[0;34m\u001b[0m\u001b[0m\n\u001b[0m\u001b[1;32m    239\u001b[0m \u001b[0;34m\u001b[0m\u001b[0m\n\u001b[1;32m    240\u001b[0m     \u001b[0;32mexcept\u001b[0m \u001b[0mException\u001b[0m \u001b[0;32mas\u001b[0m \u001b[0me\u001b[0m\u001b[0;34m:\u001b[0m\u001b[0;34m\u001b[0m\u001b[0m\n",
      "\u001b[0;32m/home/mbulte/anaconda2/lib/python2.7/site-packages/sklearn/svm/base.pyc\u001b[0m in \u001b[0;36mfit\u001b[0;34m(self, X, y, sample_weight)\u001b[0m\n\u001b[1;32m    187\u001b[0m \u001b[0;34m\u001b[0m\u001b[0m\n\u001b[1;32m    188\u001b[0m         \u001b[0mseed\u001b[0m \u001b[0;34m=\u001b[0m \u001b[0mrnd\u001b[0m\u001b[0;34m.\u001b[0m\u001b[0mrandint\u001b[0m\u001b[0;34m(\u001b[0m\u001b[0mnp\u001b[0m\u001b[0;34m.\u001b[0m\u001b[0miinfo\u001b[0m\u001b[0;34m(\u001b[0m\u001b[0;34m'i'\u001b[0m\u001b[0;34m)\u001b[0m\u001b[0;34m.\u001b[0m\u001b[0mmax\u001b[0m\u001b[0;34m)\u001b[0m\u001b[0;34m\u001b[0m\u001b[0m\n\u001b[0;32m--> 189\u001b[0;31m         \u001b[0mfit\u001b[0m\u001b[0;34m(\u001b[0m\u001b[0mX\u001b[0m\u001b[0;34m,\u001b[0m \u001b[0my\u001b[0m\u001b[0;34m,\u001b[0m \u001b[0msample_weight\u001b[0m\u001b[0;34m,\u001b[0m \u001b[0msolver_type\u001b[0m\u001b[0;34m,\u001b[0m \u001b[0mkernel\u001b[0m\u001b[0;34m,\u001b[0m \u001b[0mrandom_seed\u001b[0m\u001b[0;34m=\u001b[0m\u001b[0mseed\u001b[0m\u001b[0;34m)\u001b[0m\u001b[0;34m\u001b[0m\u001b[0m\n\u001b[0m\u001b[1;32m    190\u001b[0m         \u001b[0;31m# see comment on the other call to np.iinfo in this file\u001b[0m\u001b[0;34m\u001b[0m\u001b[0;34m\u001b[0m\u001b[0m\n\u001b[1;32m    191\u001b[0m \u001b[0;34m\u001b[0m\u001b[0m\n",
      "\u001b[0;32m/home/mbulte/anaconda2/lib/python2.7/site-packages/sklearn/svm/base.pyc\u001b[0m in \u001b[0;36m_dense_fit\u001b[0;34m(self, X, y, sample_weight, solver_type, kernel, random_seed)\u001b[0m\n\u001b[1;32m    254\u001b[0m                 \u001b[0mcache_size\u001b[0m\u001b[0;34m=\u001b[0m\u001b[0mself\u001b[0m\u001b[0;34m.\u001b[0m\u001b[0mcache_size\u001b[0m\u001b[0;34m,\u001b[0m \u001b[0mcoef0\u001b[0m\u001b[0;34m=\u001b[0m\u001b[0mself\u001b[0m\u001b[0;34m.\u001b[0m\u001b[0mcoef0\u001b[0m\u001b[0;34m,\u001b[0m\u001b[0;34m\u001b[0m\u001b[0m\n\u001b[1;32m    255\u001b[0m                 \u001b[0mgamma\u001b[0m\u001b[0;34m=\u001b[0m\u001b[0mself\u001b[0m\u001b[0;34m.\u001b[0m\u001b[0m_gamma\u001b[0m\u001b[0;34m,\u001b[0m \u001b[0mepsilon\u001b[0m\u001b[0;34m=\u001b[0m\u001b[0mself\u001b[0m\u001b[0;34m.\u001b[0m\u001b[0mepsilon\u001b[0m\u001b[0;34m,\u001b[0m\u001b[0;34m\u001b[0m\u001b[0m\n\u001b[0;32m--> 256\u001b[0;31m                 max_iter=self.max_iter, random_seed=random_seed)\n\u001b[0m\u001b[1;32m    257\u001b[0m \u001b[0;34m\u001b[0m\u001b[0m\n\u001b[1;32m    258\u001b[0m         \u001b[0mself\u001b[0m\u001b[0;34m.\u001b[0m\u001b[0m_warn_from_fit_status\u001b[0m\u001b[0;34m(\u001b[0m\u001b[0;34m)\u001b[0m\u001b[0;34m\u001b[0m\u001b[0m\n",
      "\u001b[0;31mKeyboardInterrupt\u001b[0m: "
     ]
    }
   ],
   "source": [
    "from sklearn import svm\n",
    "\n",
    "param_grid = {'C': np.linspace(5e-2, 1, 10),\n",
    "              'gamma': np.linspace(1e-3, 1e-2, 10) }\n",
    "clf = GridSearchCV(svm.SVC(kernel='rbf', class_weight='balanced'), param_grid)\n",
    "clf = clf.fit(X_train, y_train)\n",
    "\n",
    "y_pred = clf.predict(X_test)\n",
    "\n",
    "print classification_report(y_test, y_pred, target_names=map(str, digits.target_names))\n",
    "print clf.best_params_, len(clf.best_estimator_.support_)"
   ]
  },
  {
   "cell_type": "code",
   "execution_count": 4,
   "metadata": {
    "collapsed": false
   },
   "outputs": [
    {
     "name": "stdout",
     "output_type": "stream",
     "text": [
      "             precision    recall  f1-score   support\n",
      "\n",
      "          0       0.87      1.00      0.93        34\n",
      "          1       0.85      0.85      0.85        26\n",
      "          2       0.94      1.00      0.97        34\n",
      "          3       0.93      0.90      0.92        31\n",
      "          4       0.98      0.96      0.97        46\n",
      "          5       0.95      0.98      0.96        42\n",
      "          6       1.00      0.97      0.98        31\n",
      "          7       0.84      0.98      0.90        42\n",
      "          8       1.00      0.85      0.92        33\n",
      "          9       0.88      0.73      0.80        41\n",
      "\n",
      "avg / total       0.93      0.92      0.92       360\n",
      "\n",
      "[[34  0  0  0  0  0  0  0  0  0]\n",
      " [ 0 22  2  1  0  0  0  0  0  1]\n",
      " [ 0  0 34  0  0  0  0  0  0  0]\n",
      " [ 0  0  0 28  0  1  0  2  0  0]\n",
      " [ 0  0  0  0 44  0  0  1  0  1]\n",
      " [ 0  0  0  0  0 41  0  0  0  1]\n",
      " [ 1  0  0  0  0  0 30  0  0  0]\n",
      " [ 0  0  0  0  0  1  0 41  0  0]\n",
      " [ 0  3  0  0  0  0  0  1 28  1]\n",
      " [ 4  1  0  1  1  0  0  4  0 30]]\n",
      "{'alpha': 0.72222222222222221}\n"
     ]
    }
   ],
   "source": [
    "from sklearn.linear_model import SGDClassifier\n",
    "\n",
    "param_grid = {'alpha': np.linspace(5e-1, 1, 10)}\n",
    "\n",
    "clf = GridSearchCV(SGDClassifier(penalty='l2'), param_grid)\n",
    "clf = clf.fit(X_train, y_train)\n",
    "\n",
    "y_pred = clf.predict(X_test)\n",
    "\n",
    "print classification_report(y_test, y_pred, target_names=map(str, digits.target_names))\n",
    "print confusion_matrix(y_test, y_pred, labels=range(digits.target_names.shape[0]))\n",
    "print clf.best_params_"
   ]
  },
  {
   "cell_type": "code",
   "execution_count": 19,
   "metadata": {
    "collapsed": false
   },
   "outputs": [
    {
     "name": "stdout",
     "output_type": "stream",
     "text": [
      "             precision    recall  f1-score   support\n",
      "\n",
      "          0       0.94      0.94      0.94        67\n",
      "          1       0.97      0.97      0.97        71\n",
      "          2       0.97      0.97      0.97        64\n",
      "          3       0.91      0.97      0.94        72\n",
      "          4       0.94      0.96      0.95        77\n",
      "          5       0.96      0.95      0.95        76\n",
      "          6       0.94      0.94      0.94        72\n",
      "          7       0.97      0.94      0.95        78\n",
      "          8       0.94      0.92      0.93        65\n",
      "          9       0.95      0.92      0.93        77\n",
      "\n",
      "avg / total       0.95      0.95      0.95       719\n",
      "\n",
      "[[63  0  0  0  2  1  1  0  0  0]\n",
      " [ 0 69  0  0  0  0  0  0  2  0]\n",
      " [ 0  0 62  2  0  0  0  0  0  0]\n",
      " [ 0  0  0 70  0  1  0  0  1  0]\n",
      " [ 0  0  0  0 74  0  3  0  0  0]\n",
      " [ 0  1  0  0  0 72  0  1  0  2]\n",
      " [ 4  0  0  0  0  0 68  0  0  0]\n",
      " [ 0  0  1  0  2  0  0 73  0  2]\n",
      " [ 0  1  1  2  1  0  0  0 60  0]\n",
      " [ 0  0  0  3  0  1  0  1  1 71]]\n"
     ]
    }
   ],
   "source": [
    "from sklearn.neural_network import MLPClassifier\n",
    "\n",
    "param_grid = {'alpha': np.linspace(5e-5, 5e-4, 10)}\n",
    "\n",
    "clf = GridSearchCV(MLPClassifier(solver='lbfgs', hidden_layer_sizes=(64, 256, 10)), param_grid)\n",
    "clf.fit(X_train, y_train)\n",
    "\n",
    "y_pred = clf.predict(X_test)\n",
    "\n",
    "print classification_report(y_test, y_pred, target_names=map(str, digits.target_names))\n",
    "print confusion_matrix(y_test, y_pred, labels=range(digits.target_names.shape[0]))"
   ]
  },
  {
   "cell_type": "code",
   "execution_count": 46,
   "metadata": {
    "collapsed": false
   },
   "outputs": [
    {
     "name": "stdout",
     "output_type": "stream",
     "text": [
      "             precision    recall  f1-score   support\n",
      "\n",
      "          0       1.00      1.00      1.00        67\n",
      "          1       0.96      1.00      0.98        71\n",
      "          2       1.00      1.00      1.00        64\n",
      "          3       0.99      0.99      0.99        72\n",
      "          4       0.99      0.99      0.99        77\n",
      "          5       1.00      1.00      1.00        76\n",
      "          6       1.00      1.00      1.00        72\n",
      "          7       0.97      1.00      0.99        78\n",
      "          8       1.00      0.94      0.97        65\n",
      "          9       0.99      0.97      0.98        77\n",
      "\n",
      "avg / total       0.99      0.99      0.99       719\n",
      "\n",
      "[[67  0  0  0  0  0  0  0  0  0]\n",
      " [ 0 71  0  0  0  0  0  0  0  0]\n",
      " [ 0  0 64  0  0  0  0  0  0  0]\n",
      " [ 0  0  0 71  0  0  0  1  0  0]\n",
      " [ 0  0  0  0 76  0  0  1  0  0]\n",
      " [ 0  0  0  0  0 76  0  0  0  0]\n",
      " [ 0  0  0  0  0  0 72  0  0  0]\n",
      " [ 0  0  0  0  0  0  0 78  0  0]\n",
      " [ 0  3  0  0  0  0  0  0 61  1]\n",
      " [ 0  0  0  1  1  0  0  0  0 75]]\n",
      "{'n_neighbors': 7}\n"
     ]
    }
   ],
   "source": [
    "from sklearn.neighbors import KNeighborsClassifier\n",
    "\n",
    "param_grid = {'n_neighbors': range(5, 15)}\n",
    "\n",
    "clf = GridSearchCV(KNeighborsClassifier(), param_grid)\n",
    "clf = clf.fit(X_train, y_train)\n",
    "\n",
    "y_pred = clf.predict(X_test)\n",
    "\n",
    "print classification_report(y_test, y_pred, target_names=map(str, digits.target_names))\n",
    "print confusion_matrix(y_test, y_pred, labels=range(digits.target_names.shape[0]))\n",
    "print clf.best_params_"
   ]
  },
  {
   "cell_type": "code",
   "execution_count": 48,
   "metadata": {
    "collapsed": false
   },
   "outputs": [
    {
     "name": "stdout",
     "output_type": "stream",
     "text": [
      "             precision    recall  f1-score   support\n",
      "\n",
      "          0       0.97      1.00      0.99        67\n",
      "          1       0.92      0.97      0.95        71\n",
      "          2       0.97      0.95      0.96        64\n",
      "          3       0.96      0.94      0.95        72\n",
      "          4       0.96      0.97      0.97        77\n",
      "          5       0.97      0.92      0.95        76\n",
      "          6       0.99      0.97      0.98        72\n",
      "          7       0.94      0.97      0.96        78\n",
      "          8       0.92      0.94      0.93        65\n",
      "          9       0.95      0.90      0.92        77\n",
      "\n",
      "avg / total       0.95      0.95      0.95       719\n",
      "\n",
      "[[67  0  0  0  0  0  0  0  0  0]\n",
      " [ 0 69  1  0  0  0  0  0  1  0]\n",
      " [ 0  2 61  0  0  0  0  1  0  0]\n",
      " [ 0  1  0 68  0  0  1  1  1  0]\n",
      " [ 0  0  0  0 75  0  0  1  0  1]\n",
      " [ 0  1  0  1  2 70  0  0  0  2]\n",
      " [ 1  0  0  0  0  1 70  0  0  0]\n",
      " [ 0  0  0  0  0  0  0 76  1  1]\n",
      " [ 1  2  0  0  1  0  0  0 61  0]\n",
      " [ 0  0  1  2  0  1  0  2  2 69]]\n"
     ]
    }
   ],
   "source": [
    "from sklearn.ensemble import RandomForestClassifier\n",
    "\n",
    "\n",
    "clf = RandomForestClassifier()\n",
    "clf = clf.fit(X_train, y_train)\n",
    "\n",
    "y_pred = clf.predict(X_test)\n",
    "\n",
    "print classification_report(y_test, y_pred, target_names=map(str, digits.target_names))\n",
    "print confusion_matrix(y_test, y_pred, labels=range(digits.target_names.shape[0]))\n"
   ]
  },
  {
   "cell_type": "code",
   "execution_count": 75,
   "metadata": {
    "collapsed": false
   },
   "outputs": [
    {
     "name": "stdout",
     "output_type": "stream",
     "text": [
      "\n",
      "------------------------------------------------------------------\n",
      "Classifier: radial basis function\n",
      "Best parameters: {'C': 20.0, 'gamma': 0.01}\n",
      "Misclassified: (6 / 360)\n",
      "\n",
      "             precision    recall  f1-score   support\n",
      "\n",
      "          0       0.97      1.00      0.99        34\n",
      "          1       1.00      1.00      1.00        26\n",
      "          2       1.00      1.00      1.00        34\n",
      "          3       1.00      0.94      0.97        31\n",
      "          4       1.00      1.00      1.00        46\n",
      "          5       0.98      1.00      0.99        42\n",
      "          6       1.00      0.97      0.98        31\n",
      "          7       0.98      0.98      0.98        42\n",
      "          8       0.94      1.00      0.97        33\n",
      "          9       0.97      0.95      0.96        41\n",
      "\n",
      "avg / total       0.98      0.98      0.98       360\n",
      "\n",
      "\n",
      "------------------------------------------------------------------\n",
      "Classifier: lin svm [l2 loss]\n",
      "Best parameters: {'alpha': 0.94444444444444442}\n",
      "Misclassified: (38 / 360)\n",
      "\n",
      "             precision    recall  f1-score   support\n",
      "\n",
      "          0       0.83      1.00      0.91        34\n",
      "          1       0.88      0.85      0.86        26\n",
      "          2       0.85      1.00      0.92        34\n",
      "          3       0.90      0.87      0.89        31\n",
      "          4       1.00      0.96      0.98        46\n",
      "          5       0.91      0.98      0.94        42\n",
      "          6       1.00      0.97      0.98        31\n",
      "          7       0.80      0.98      0.88        42\n",
      "          8       0.96      0.76      0.85        33\n",
      "          9       0.86      0.59      0.70        41\n",
      "\n",
      "avg / total       0.90      0.89      0.89       360\n",
      "\n",
      "\n",
      "------------------------------------------------------------------\n",
      "Classifier: nn [64x256x10]\n",
      "Best parameters: {'alpha': 0.00014999999999999999}\n",
      "Misclassified: (10 / 360)\n",
      "\n",
      "             precision    recall  f1-score   support\n",
      "\n",
      "          0       0.97      0.97      0.97        34\n",
      "          1       0.93      1.00      0.96        26\n",
      "          2       1.00      0.97      0.99        34\n",
      "          3       0.94      0.97      0.95        31\n",
      "          4       0.98      1.00      0.99        46\n",
      "          5       0.98      1.00      0.99        42\n",
      "          6       0.97      0.97      0.97        31\n",
      "          7       1.00      0.98      0.99        42\n",
      "          8       0.97      0.94      0.95        33\n",
      "          9       0.97      0.93      0.95        41\n",
      "\n",
      "avg / total       0.97      0.97      0.97       360\n",
      "\n",
      "\n",
      "------------------------------------------------------------------\n",
      "Classifier: random forest\n",
      "Best parameters: {}\n",
      "Misclassified: (15 / 360)\n",
      "\n",
      "             precision    recall  f1-score   support\n",
      "\n",
      "          0       0.97      0.97      0.97        34\n",
      "          1       0.93      1.00      0.96        26\n",
      "          2       1.00      0.97      0.99        34\n",
      "          3       0.90      0.90      0.90        31\n",
      "          4       0.96      1.00      0.98        46\n",
      "          5       0.93      0.98      0.95        42\n",
      "          6       1.00      0.94      0.97        31\n",
      "          7       0.93      1.00      0.97        42\n",
      "          8       0.97      0.97      0.97        33\n",
      "          9       1.00      0.85      0.92        41\n",
      "\n",
      "avg / total       0.96      0.96      0.96       360\n",
      "\n",
      "\n",
      "------------------------------------------------------------------\n",
      "Classifier: knn\n",
      "Best parameters: {'n_neighbors': 5}\n",
      "Misclassified: (6 / 360)\n",
      "\n",
      "             precision    recall  f1-score   support\n",
      "\n",
      "          0       1.00      1.00      1.00        34\n",
      "          1       1.00      1.00      1.00        26\n",
      "          2       1.00      1.00      1.00        34\n",
      "          3       0.97      0.97      0.97        31\n",
      "          4       0.98      0.98      0.98        46\n",
      "          5       1.00      1.00      1.00        42\n",
      "          6       1.00      1.00      1.00        31\n",
      "          7       0.95      0.98      0.96        42\n",
      "          8       0.97      1.00      0.99        33\n",
      "          9       0.97      0.93      0.95        41\n",
      "\n",
      "avg / total       0.98      0.98      0.98       360\n",
      "\n"
     ]
    }
   ],
   "source": [
    "classifiers = [\n",
    "    { 'name': 'radial basis function',\n",
    "     'clf': svm.SVC(kernel='rbf', class_weight='balanced'),\n",
    "     'grid': {'C': np.linspace(2e1, 1e2, 10), 'gamma': np.linspace(1e-3, 1e-2, 10) }\n",
    "    },\n",
    "    { 'name': 'lin svm [l2 loss]',\n",
    "     'clf': SGDClassifier(penalty='l2'),\n",
    "     'grid': {'alpha': np.linspace(5e-1, 1, 10)}\n",
    "    },\n",
    "    { 'name': 'nn [64x256x10]',\n",
    "     'clf': MLPClassifier(solver='lbfgs', hidden_layer_sizes=(64, 256, 10)),\n",
    "     'grid': {'alpha': np.linspace(5e-5, 5e-4, 10)}\n",
    "    },\n",
    "    { 'name': 'random forest',\n",
    "     'clf': RandomForestClassifier(),\n",
    "     'grid': {}\n",
    "    },\n",
    "    { 'name': 'knn',\n",
    "     'clf': KNeighborsClassifier(),\n",
    "     'grid': {'n_neighbors': range(5, 15)}\n",
    "    },\n",
    "]\n",
    "\n",
    "for c in classifiers:\n",
    "    print \"\\n------------------------------------------------------------------\"\n",
    "    print \"Classifier: %s\" % c['name']\n",
    "    \n",
    "    clf = GridSearchCV(c['clf'], c['grid'])\n",
    "    clf = clf.fit(X_train, y_train)\n",
    "    y_pred = clf.predict(X_test)\n",
    "    \n",
    "    print \"Best parameters: %s\" % clf.best_params_\n",
    "    print \"Misclassified: (%d / %d)\\n\" % (sum(y_pred != y_test), len(y_test))\n",
    "    print classification_report(y_test, y_pred, target_names=map(str, digits.target_names))\n"
   ]
  }
 ],
 "metadata": {
  "kernelspec": {
   "display_name": "Python [conda root]",
   "language": "python",
   "name": "conda-root-py"
  },
  "language_info": {
   "codemirror_mode": {
    "name": "ipython",
    "version": 2
   },
   "file_extension": ".py",
   "mimetype": "text/x-python",
   "name": "python",
   "nbconvert_exporter": "python",
   "pygments_lexer": "ipython2",
   "version": "2.7.13"
  }
 },
 "nbformat": 4,
 "nbformat_minor": 2
}
